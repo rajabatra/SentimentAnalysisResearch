{
  "cells": [
    {
      "cell_type": "markdown",
      "metadata": {
        "id": "Hw57yNC-00rP"
      },
      "source": [
        "# Sentiment Analysis Research and Application\n",
        "## Transformer with word level tokenization\n",
        "## by raja batra and eli rejto"
      ]
    },
    {
      "cell_type": "markdown",
      "source": [
        "This notebook goes over the process of preprocessing the sentiment 140 dataset with 1.6 million labeled tweets. Then we build a transformer model and train the model using word level tokenization to predict the sentiment of tweets."
      ],
      "metadata": {
        "id": "OAPRRwd31PFQ"
      }
    },
    {
      "cell_type": "code",
      "execution_count": 1,
      "metadata": {
        "id": "9tb2f_hIyqap"
      },
      "outputs": [],
      "source": [
        "import torch\n",
        "import math\n",
        "import re\n",
        "import pandas as pd\n",
        "import nltk\n",
        "from nltk.stem import WordNetLemmatizer\n",
        "from nltk.corpus import stopwords\n",
        "from torch import nn, optim\n",
        "from torch.utils.data import Dataset\n",
        "from sklearn.model_selection import train_test_split\n",
        "import torchtext\n",
        "from torch.utils.data import Dataset, DataLoader, SubsetRandomSampler\n",
        "from torch.nn.utils.rnn import pad_sequence\n",
        "from torch.nn.functional import one_hot\n",
        "import torch.optim as optim\n",
        "import matplotlib.pyplot as plt"
      ]
    },
    {
      "cell_type": "code",
      "execution_count": 2,
      "metadata": {
        "colab": {
          "base_uri": "https://localhost:8080/"
        },
        "id": "eTlvCneM0zwH",
        "outputId": "53235d93-6d9c-4f18-9f62-2feea760904e"
      },
      "outputs": [
        {
          "output_type": "stream",
          "name": "stdout",
          "text": [
            "Mounted at /content/drive\n"
          ]
        }
      ],
      "source": [
        "from google.colab import drive\n",
        "drive.mount('/content/drive')"
      ]
    },
    {
      "cell_type": "code",
      "execution_count": 3,
      "metadata": {
        "colab": {
          "base_uri": "https://localhost:8080/"
        },
        "id": "2Zeo93FahgS3",
        "outputId": "d033a55c-fe25-4110-aa53-ab7f1349adf9"
      },
      "outputs": [
        {
          "output_type": "stream",
          "name": "stdout",
          "text": [
            "GPU is available\n"
          ]
        }
      ],
      "source": [
        "is_cuda = torch.cuda.is_available()\n",
        "\n",
        "# If we have a GPU available, we'll set our device to GPU. We'll use this device variable later in our code.\n",
        "if is_cuda:\n",
        "    device = torch.device(\"cuda\")\n",
        "    print(\"GPU is available\")\n",
        "else:\n",
        "    device = torch.device(\"cpu\")\n",
        "    print(\"GPU not available, CPU used\")"
      ]
    },
    {
      "cell_type": "markdown",
      "metadata": {
        "id": "eYHzC59-xGti"
      },
      "source": [
        "## The data we are using is Sentiment 140 from kaggle: https://www.kaggle.com/datasets/kazanova/sentiment140"
      ]
    },
    {
      "cell_type": "code",
      "execution_count": 4,
      "metadata": {
        "id": "bO0I_YzS1tFc"
      },
      "outputs": [],
      "source": [
        " csvfile = '/content/drive/MyDrive/twitter.csv'"
      ]
    },
    {
      "cell_type": "code",
      "execution_count": 5,
      "metadata": {
        "id": "bZ54BzuL17lU"
      },
      "outputs": [],
      "source": [
        "\n",
        "DATASET_COLUMNS  = [\"sentiment\", \"ids\", \"date\", \"flag\", \"user\", \"text\"]\n",
        "DATASET_ENCODING = \"ISO-8859-1\"\n",
        "\n",
        "dataset = pd.read_csv(csvfile,\n",
        "                      encoding=DATASET_ENCODING , names=DATASET_COLUMNS)"
      ]
    },
    {
      "cell_type": "code",
      "execution_count": 6,
      "metadata": {
        "id": "Il8e100H45XN"
      },
      "outputs": [],
      "source": [
        "# Removing the unnecessary columns.\n",
        "dataset = dataset[['sentiment','text']]\n",
        "# Replacing the values to ease understanding.\n",
        "dataset['sentiment'] = dataset['sentiment'].replace(4,1)\n"
      ]
    },
    {
      "cell_type": "code",
      "execution_count": 7,
      "metadata": {
        "colab": {
          "base_uri": "https://localhost:8080/",
          "height": 489
        },
        "id": "b5_AWajm5AbT",
        "outputId": "03beae24-1a35-46a2-dcb1-6ee70391b044"
      },
      "outputs": [
        {
          "output_type": "execute_result",
          "data": {
            "text/plain": [
              "[Text(0, 0, 'Negative'), Text(1, 0, 'Positive')]"
            ]
          },
          "metadata": {},
          "execution_count": 7
        },
        {
          "output_type": "display_data",
          "data": {
            "text/plain": [
              "<Figure size 640x480 with 1 Axes>"
            ],
            "image/png": "[encoded data removed]"
          },
          "metadata": {}
        }
      ],
      "source": [
        "ax = dataset.groupby('sentiment').count().plot(kind='bar', title='Distribution of data',\n",
        "                                               legend=False)\n",
        "ax.set_xticklabels(['Negative','Positive'], rotation=0)"
      ]
    },
    {
      "cell_type": "code",
      "execution_count": 8,
      "metadata": {
        "colab": {
          "base_uri": "https://localhost:8080/",
          "height": 359
        },
        "id": "gJRcYnth5CyL",
        "outputId": "06940691-260d-4606-baa5-27d73987d2ba"
      },
      "outputs": [
        {
          "output_type": "execute_result",
          "data": {
            "text/plain": [
              "   sentiment                                               text\n",
              "0          0  @switchfoot http://twitpic.com/2y1zl - Awww, t...\n",
              "1          0  is upset that he can't update his Facebook by ...\n",
              "2          0  @Kenichan I dived many times for the ball. Man...\n",
              "3          0    my whole body feels itchy and like its on fire \n",
              "4          0  @nationwideclass no, it's not behaving at all....\n",
              "5          0                      @Kwesidei not the whole crew \n",
              "6          0                                        Need a hug \n",
              "7          0  @LOLTrish hey  long time no see! Yes.. Rains a...\n",
              "8          0               @Tatiana_K nope they didn't have it \n",
              "9          0                          @twittera que me muera ? "
            ],
            "text/html": [
              "\n",
              "  <div id=\"df-87c8a5e7-222f-4eba-81e9-0822c2e3836c\" class=\"colab-df-container\">\n",
              "    <div>\n",
              "<style scoped>\n",
              "    .dataframe tbody tr th:only-of-type {\n",
              "        vertical-align: middle;\n",
              "    }\n",
              "\n",
              "    .dataframe tbody tr th {\n",
              "        vertical-align: top;\n",
              "    }\n",
              "\n",
              "    .dataframe thead th {\n",
              "        text-align: right;\n",
              "    }\n",
              "</style>\n",
              "<table border=\"1\" class=\"dataframe\">\n",
              "  <thead>\n",
              "    <tr style=\"text-align: right;\">\n",
              "      <th></th>\n",
              "      <th>sentiment</th>\n",
              "      <th>text</th>\n",
              "    </tr>\n",
              "  </thead>\n",
              "  <tbody>\n",
              "    <tr>\n",
              "      <th>0</th>\n",
              "      <td>0</td>\n",
              "      <td>@switchfoot http://twitpic.com/2y1zl - Awww, t...</td>\n",
              "    </tr>\n",
              "    <tr>\n",
              "      <th>1</th>\n",
              "      <td>0</td>\n",
              "      <td>is upset that he can't update his Facebook by ...</td>\n",
              "    </tr>\n",
              "    <tr>\n",
              "      <th>2</th>\n",
              "      <td>0</td>\n",
              "      <td>@Kenichan I dived many times for the ball. Man...</td>\n",
              "    </tr>\n",
              "    <tr>\n",
              "      <th>3</th>\n",
              "      <td>0</td>\n",
              "      <td>my whole body feels itchy and like its on fire</td>\n",
              "    </tr>\n",
              "    <tr>\n",
              "      <th>4</th>\n",
              "      <td>0</td>\n",
              "      <td>@nationwideclass no, it's not behaving at all....</td>\n",
              "    </tr>\n",
              "    <tr>\n",
              "      <th>5</th>\n",
              "      <td>0</td>\n",
              "      <td>@Kwesidei not the whole crew</td>\n",
              "    </tr>\n",
              "    <tr>\n",
              "      <th>6</th>\n",
              "      <td>0</td>\n",
              "      <td>Need a hug</td>\n",
              "    </tr>\n",
              "    <tr>\n",
              "      <th>7</th>\n",
              "      <td>0</td>\n",
              "      <td>@LOLTrish hey  long time no see! Yes.. Rains a...</td>\n",
              "    </tr>\n",
              "    <tr>\n",
              "      <th>8</th>\n",
              "      <td>0</td>\n",
              "      <td>@Tatiana_K nope they didn't have it</td>\n",
              "    </tr>\n",
              "    <tr>\n",
              "      <th>9</th>\n",
              "      <td>0</td>\n",
              "      <td>@twittera que me muera ?</td>\n",
              "    </tr>\n",
              "  </tbody>\n",
              "</table>\n",
              "</div>\n",
              "    <div class=\"colab-df-buttons\">\n",
              "\n",
              "  <div class=\"colab-df-container\">\n",
              "    <button class=\"colab-df-convert\" onclick=\"convertToInteractive('df-87c8a5e7-222f-4eba-81e9-0822c2e3836c')\"\n",
              "            title=\"Convert this dataframe to an interactive table.\"\n",
              "            style=\"display:none;\">\n",
              "\n",
              "  <svg xmlns=\"http://www.w3.org/2000/svg\" height=\"24px\" viewBox=\"0 -960 960 960\">\n",
              "    <path d=\"M120-120v-720h720v720H120Zm60-500h600v-160H180v160Zm220 220h160v-160H400v160Zm0 220h160v-160H400v160ZM180-400h160v-160H180v160Zm440 0h160v-160H620v160ZM180-180h160v-160H180v160Zm440 0h160v-160H620v160Z\"/>\n",
              "  </svg>\n",
              "    </button>\n",
              "\n",
              "  <style>\n",
              "    .colab-df-container {\n",
              "      display:flex;\n",
              "      gap: 12px;\n",
              "    }\n",
              "\n",
              "    .colab-df-convert {\n",
              "      background-color: #E8F0FE;\n",
              "      border: none;\n",
              "      border-radius: 50%;\n",
              "      cursor: pointer;\n",
              "      display: none;\n",
              "      fill: #1967D2;\n",
              "      height: 32px;\n",
              "      padding: 0 0 0 0;\n",
              "      width: 32px;\n",
              "    }\n",
              "\n",
              "    .colab-df-convert:hover {\n",
              "      background-color: #E2EBFA;\n",
              "      box-shadow: 0px 1px 2px rgba(60, 64, 67, 0.3), 0px 1px 3px 1px rgba(60, 64, 67, 0.15);\n",
              "      fill: #174EA6;\n",
              "    }\n",
              "\n",
              "    .colab-df-buttons div {\n",
              "      margin-bottom: 4px;\n",
              "    }\n",
              "\n",
              "    [theme=dark] .colab-df-convert {\n",
              "      background-color: #3B4455;\n",
              "      fill: #D2E3FC;\n",
              "    }\n",
              "\n",
              "    [theme=dark] .colab-df-convert:hover {\n",
              "      background-color: #434B5C;\n",
              "      box-shadow: 0px 1px 3px 1px rgba(0, 0, 0, 0.15);\n",
              "      filter: drop-shadow(0px 1px 2px rgba(0, 0, 0, 0.3));\n",
              "      fill: #FFFFFF;\n",
              "    }\n",
              "  </style>\n",
              "\n",
              "    <script>\n",
              "      const buttonEl =\n",
              "        document.querySelector('#df-87c8a5e7-222f-4eba-81e9-0822c2e3836c button.colab-df-convert');\n",
              "      buttonEl.style.display =\n",
              "        google.colab.kernel.accessAllowed ? 'block' : 'none';\n",
              "\n",
              "      async function convertToInteractive(key) {\n",
              "        const element = document.querySelector('#df-87c8a5e7-222f-4eba-81e9-0822c2e3836c');\n",
              "        const dataTable =\n",
              "          await google.colab.kernel.invokeFunction('convertToInteractive',\n",
              "                                                    [key], {});\n",
              "        if (!dataTable) return;\n",
              "\n",
              "        const docLinkHtml = 'Like what you see? Visit the ' +\n",
              "          '<a target=\"_blank\" href=https://colab.research.google.com/notebooks/data_table.ipynb>data table notebook</a>'\n",
              "          + ' to learn more about interactive tables.';\n",
              "        element.innerHTML = '';\n",
              "        dataTable['output_type'] = 'display_data';\n",
              "        await google.colab.output.renderOutput(dataTable, element);\n",
              "        const docLink = document.createElement('div');\n",
              "        docLink.innerHTML = docLinkHtml;\n",
              "        element.appendChild(docLink);\n",
              "      }\n",
              "    </script>\n",
              "  </div>\n",
              "\n",
              "\n",
              "<div id=\"df-f05fd133-63b8-40f7-a5f6-76c07d130802\">\n",
              "  <button class=\"colab-df-quickchart\" onclick=\"quickchart('df-f05fd133-63b8-40f7-a5f6-76c07d130802')\"\n",
              "            title=\"Suggest charts\"\n",
              "            style=\"display:none;\">\n",
              "\n",
              "<svg xmlns=\"http://www.w3.org/2000/svg\" height=\"24px\"viewBox=\"0 0 24 24\"\n",
              "     width=\"24px\">\n",
              "    <g>\n",
              "        <path d=\"M19 3H5c-1.1 0-2 .9-2 2v14c0 1.1.9 2 2 2h14c1.1 0 2-.9 2-2V5c0-1.1-.9-2-2-2zM9 17H7v-7h2v7zm4 0h-2V7h2v10zm4 0h-2v-4h2v4z\"/>\n",
              "    </g>\n",
              "</svg>\n",
              "  </button>\n",
              "\n",
              "<style>\n",
              "  .colab-df-quickchart {\n",
              "      --bg-color: #E8F0FE;\n",
              "      --fill-color: #1967D2;\n",
              "      --hover-bg-color: #E2EBFA;\n",
              "      --hover-fill-color: #174EA6;\n",
              "      --disabled-fill-color: #AAA;\n",
              "      --disabled-bg-color: #DDD;\n",
              "  }\n",
              "\n",
              "  [theme=dark] .colab-df-quickchart {\n",
              "      --bg-color: #3B4455;\n",
              "      --fill-color: #D2E3FC;\n",
              "      --hover-bg-color: #434B5C;\n",
              "      --hover-fill-color: #FFFFFF;\n",
              "      --disabled-bg-color: #3B4455;\n",
              "      --disabled-fill-color: #666;\n",
              "  }\n",
              "\n",
              "  .colab-df-quickchart {\n",
              "    background-color: var(--bg-color);\n",
              "    border: none;\n",
              "    border-radius: 50%;\n",
              "    cursor: pointer;\n",
              "    display: none;\n",
              "    fill: var(--fill-color);\n",
              "    height: 32px;\n",
              "    padding: 0;\n",
              "    width: 32px;\n",
              "  }\n",
              "\n",
              "  .colab-df-quickchart:hover {\n",
              "    background-color: var(--hover-bg-color);\n",
              "    box-shadow: 0 1px 2px rgba(60, 64, 67, 0.3), 0 1px 3px 1px rgba(60, 64, 67, 0.15);\n",
              "    fill: var(--button-hover-fill-color);\n",
              "  }\n",
              "\n",
              "  .colab-df-quickchart-complete:disabled,\n",
              "  .colab-df-quickchart-complete:disabled:hover {\n",
              "    background-color: var(--disabled-bg-color);\n",
              "    fill: var(--disabled-fill-color);\n",
              "    box-shadow: none;\n",
              "  }\n",
              "\n",
              "  .colab-df-spinner {\n",
              "    border: 2px solid var(--fill-color);\n",
              "    border-color: transparent;\n",
              "    border-bottom-color: var(--fill-color);\n",
              "    animation:\n",
              "      spin 1s steps(1) infinite;\n",
              "  }\n",
              "\n",
              "  @keyframes spin {\n",
              "    0% {\n",
              "      border-color: transparent;\n",
              "      border-bottom-color: var(--fill-color);\n",
              "      border-left-color: var(--fill-color);\n",
              "    }\n",
              "    20% {\n",
              "      border-color: transparent;\n",
              "      border-left-color: var(--fill-color);\n",
              "      border-top-color: var(--fill-color);\n",
              "    }\n",
              "    30% {\n",
              "      border-color: transparent;\n",
              "      border-left-color: var(--fill-color);\n",
              "      border-top-color: var(--fill-color);\n",
              "      border-right-color: var(--fill-color);\n",
              "    }\n",
              "    40% {\n",
              "      border-color: transparent;\n",
              "      border-right-color: var(--fill-color);\n",
              "      border-top-color: var(--fill-color);\n",
              "    }\n",
              "    60% {\n",
              "      border-color: transparent;\n",
              "      border-right-color: var(--fill-color);\n",
              "    }\n",
              "    80% {\n",
              "      border-color: transparent;\n",
              "      border-right-color: var(--fill-color);\n",
              "      border-bottom-color: var(--fill-color);\n",
              "    }\n",
              "    90% {\n",
              "      border-color: transparent;\n",
              "      border-bottom-color: var(--fill-color);\n",
              "    }\n",
              "  }\n",
              "</style>\n",
              "\n",
              "  <script>\n",
              "    async function quickchart(key) {\n",
              "      const quickchartButtonEl =\n",
              "        document.querySelector('#' + key + ' button');\n",
              "      quickchartButtonEl.disabled = true;  // To prevent multiple clicks.\n",
              "      quickchartButtonEl.classList.add('colab-df-spinner');\n",
              "      try {\n",
              "        const charts = await google.colab.kernel.invokeFunction(\n",
              "            'suggestCharts', [key], {});\n",
              "      } catch (error) {\n",
              "        console.error('Error during call to suggestCharts:', error);\n",
              "      }\n",
              "      quickchartButtonEl.classList.remove('colab-df-spinner');\n",
              "      quickchartButtonEl.classList.add('colab-df-quickchart-complete');\n",
              "    }\n",
              "    (() => {\n",
              "      let quickchartButtonEl =\n",
              "        document.querySelector('#df-f05fd133-63b8-40f7-a5f6-76c07d130802 button');\n",
              "      quickchartButtonEl.style.display =\n",
              "        google.colab.kernel.accessAllowed ? 'block' : 'none';\n",
              "    })();\n",
              "  </script>\n",
              "</div>\n",
              "    </div>\n",
              "  </div>\n"
            ]
          },
          "metadata": {},
          "execution_count": 8
        }
      ],
      "source": [
        "dataset.head(10)"
      ]
    },
    {
      "cell_type": "markdown",
      "metadata": {
        "id": "a2rVMNIICOIO"
      },
      "source": [
        "Preprocess Text: To Preprocess the text, we defined several regex patterns that would remove user handles, urls, and non alphabetic symbols. As well, the tweets where lower cased. This preprocessing is based on"
      ]
    },
    {
      "cell_type": "code",
      "execution_count": 9,
      "metadata": {
        "id": "aeeRlRLe7OXO"
      },
      "outputs": [],
      "source": [
        "from nltk.stem import WordNetLemmatizer\n",
        "from nltk.corpus import stopwords\n",
        "def preprocess(textdata):\n",
        "    processedText = []\n",
        "\n",
        "    ##use regular expressions to process tweets\n",
        "\n",
        "    urlPattern        = r\"((http://)[^ ]*|(https://)[^ ]*|( www\\.)[^ ]*)\"\n",
        "    userPattern       = '@[^\\s]+'\n",
        "    alphaPattern      = \"[^a-zA-Z0-9]\"\n",
        "    sequencePattern   = r\"(.)\\1\\1+\"\n",
        "    seqReplacePattern = r\"\\1\\1\"\n",
        "    lemmatizer = WordNetLemmatizer()\n",
        "    stop_words = set(stopwords.words(\"english\"))\n",
        "    for tweet in textdata:\n",
        "\n",
        "\n",
        "        # Replace all URls with 'URL'\n",
        "        tweet = re.sub(urlPattern,' URL',tweet)\n",
        "\n",
        "        # Replace @USERNAME to 'USER'.\n",
        "        tweet = re.sub(userPattern,' USER', tweet)\n",
        "        #only keep alphanumeric characters\n",
        "        tweet = re.sub(alphaPattern, \" \", tweet)\n",
        "        #remove letters that repeat more than twice\n",
        "        tweet = re.sub(sequencePattern, seqReplacePattern, tweet)\n",
        "        tweet = tweet.lower()\n",
        "\n",
        "        words = tweet.split()\n",
        "        #lemantize words\n",
        "        lemmatized_words = [lemmatizer.lemmatize(word) for word in words if word not in stop_words]\n",
        "\n",
        "\n",
        "        processed_tweet = ' '.join(lemmatized_words)\n",
        "\n",
        "\n",
        "\n",
        "        processedText.append(processed_tweet)\n",
        "\n",
        "    return processedText"
      ]
    },
    {
      "cell_type": "code",
      "execution_count": 10,
      "metadata": {
        "colab": {
          "base_uri": "https://localhost:8080/"
        },
        "id": "dsz_vWGvMmL7",
        "outputId": "3a2f75b1-76ae-42c1-c922-c18b8431ca92"
      },
      "outputs": [
        {
          "output_type": "stream",
          "name": "stderr",
          "text": [
            "[nltk_data] Downloading package wordnet to /root/nltk_data...\n",
            "[nltk_data] Downloading package stopwords to /root/nltk_data...\n",
            "[nltk_data]   Unzipping corpora/stopwords.zip.\n"
          ]
        },
        {
          "output_type": "execute_result",
          "data": {
            "text/plain": [
              "True"
            ]
          },
          "metadata": {},
          "execution_count": 10
        }
      ],
      "source": [
        "nltk.download('wordnet')\n",
        "nltk.download('stopwords')"
      ]
    },
    {
      "cell_type": "code",
      "execution_count": 11,
      "metadata": {
        "colab": {
          "base_uri": "https://localhost:8080/"
        },
        "id": "MvuZQKprDm7h",
        "outputId": "f16583d8-1f10-4ccb-e9c9-bd7502566db6"
      },
      "outputs": [
        {
          "output_type": "stream",
          "name": "stdout",
          "text": [
            "Text Preprocessing complete.\n",
            "Time Taken: 88 seconds\n"
          ]
        }
      ],
      "source": [
        "import time\n",
        "t = time.time()\n",
        "text, sentiment = list(dataset['text']), list(dataset['sentiment'])\n",
        "processedtext = preprocess(text)\n",
        "print(f'Text Preprocessing complete.')\n",
        "print(f'Time Taken: {round(time.time()-t)} seconds')"
      ]
    },
    {
      "cell_type": "code",
      "execution_count": 12,
      "metadata": {
        "colab": {
          "base_uri": "https://localhost:8080/"
        },
        "id": "cK_7RTpSPdJJ",
        "outputId": "37278df2-56b0-4470-af36-035690b07e97"
      },
      "outputs": [
        {
          "output_type": "stream",
          "name": "stdout",
          "text": [
            " Body Of Missing Northern Calif. Girl Found: Police have found the remains of a missing Northern California girl .. http://tr.im/imji\n"
          ]
        }
      ],
      "source": [
        "print(text[100])"
      ]
    },
    {
      "cell_type": "code",
      "execution_count": 13,
      "metadata": {
        "colab": {
          "base_uri": "https://localhost:8080/"
        },
        "id": "OOti7_sbPf6Z",
        "outputId": "5363bf39-8722-4dcf-d14c-9fd0f70252f3"
      },
      "outputs": [
        {
          "output_type": "stream",
          "name": "stdout",
          "text": [
            "body missing northern calif girl found police found remains missing northern california girl url\n"
          ]
        }
      ],
      "source": [
        "print(processedtext[100])"
      ]
    },
    {
      "cell_type": "code",
      "execution_count": 14,
      "metadata": {
        "colab": {
          "base_uri": "https://localhost:8080/"
        },
        "id": "xJ7Q9LO4P0Tm",
        "outputId": "63195316-e4d0-445c-a606-04b50161909f"
      },
      "outputs": [
        {
          "output_type": "stream",
          "name": "stdout",
          "text": [
            "@switchfoot http://twitpic.com/2y1zl - Awww, that's a bummer.  You shoulda got David Carr of Third Day to do it. ;D\n"
          ]
        }
      ],
      "source": [
        "print(text[0])"
      ]
    },
    {
      "cell_type": "code",
      "execution_count": 15,
      "metadata": {
        "colab": {
          "base_uri": "https://localhost:8080/"
        },
        "id": "ZhF5Io7vP5TK",
        "outputId": "cacbbf7c-8282-4867-cf0f-77a730f1817d"
      },
      "outputs": [
        {
          "output_type": "stream",
          "name": "stdout",
          "text": [
            "user url aww bummer shoulda got david carr third day\n"
          ]
        }
      ],
      "source": [
        "print(processedtext[0])"
      ]
    },
    {
      "cell_type": "code",
      "execution_count": 16,
      "metadata": {
        "colab": {
          "base_uri": "https://localhost:8080/"
        },
        "id": "z32QOjx1QlL9",
        "outputId": "11712134-022d-4115-aae8-d6c3ea80b488"
      },
      "outputs": [
        {
          "output_type": "stream",
          "name": "stderr",
          "text": [
            "[nltk_data] Downloading package stopwords to /root/nltk_data...\n",
            "[nltk_data]   Package stopwords is already up-to-date!\n"
          ]
        },
        {
          "output_type": "execute_result",
          "data": {
            "text/plain": [
              "True"
            ]
          },
          "metadata": {},
          "execution_count": 16
        }
      ],
      "source": [
        "nltk.download('stopwords')"
      ]
    },
    {
      "cell_type": "markdown",
      "metadata": {
        "id": "ExojX-2McMK7"
      },
      "source": [
        "##Building Dataset"
      ]
    },
    {
      "cell_type": "code",
      "execution_count": 17,
      "metadata": {
        "id": "3ZlUSERgfo2K"
      },
      "outputs": [],
      "source": [
        "from torchtext.data.utils import get_tokenizer\n",
        "from torchtext.vocab import build_vocab_from_iterator\n",
        "\n",
        "tokenizer = get_tokenizer('basic_english')\n",
        "train_iter = [(label, text) for label, text in enumerate(processedtext)]\n",
        "\n",
        "def yield_tokens(data_iter):\n",
        "    for _, text in data_iter:\n",
        "        yield tokenizer(text)\n",
        "\n",
        "# Build the vocabulary based on the training data\n",
        "vocab = build_vocab_from_iterator(yield_tokens(train_iter), specials=[\"<unk>\"], max_tokens=\n",
        "                                  20000)\n",
        "vocab.set_default_index(vocab[\"<unk>\"])\n",
        "\n"
      ]
    },
    {
      "cell_type": "code",
      "execution_count": 18,
      "metadata": {
        "colab": {
          "base_uri": "https://localhost:8080/"
        },
        "id": "RmNt8w1miudA",
        "outputId": "4d310378-839f-4276-853d-0e64c43736c1"
      },
      "outputs": [
        {
          "output_type": "stream",
          "name": "stdout",
          "text": [
            "hamster\n",
            "Index of 'lakers': 900\n",
            "20000\n"
          ]
        }
      ],
      "source": [
        "print(list(vocab.get_stoi().keys())[9000])\n",
        "word_index = vocab.get_stoi()['lakers']\n",
        "print(f\"Index of 'lakers': {word_index}\")\n",
        "print(len(vocab))"
      ]
    },
    {
      "cell_type": "code",
      "execution_count": 19,
      "metadata": {
        "id": "XGPSNLhQcOxK"
      },
      "outputs": [],
      "source": [
        "class CustomDataset(Dataset):\n",
        "\n",
        "    def __init__(self, data, labels, vocab, transform=None):\n",
        "        self.data = data\n",
        "        self.labels = labels\n",
        "        self.transform = transform\n",
        "        self.vocab = vocab\n",
        "\n",
        "    def __len__(self):\n",
        "        return len(self.data)\n",
        "\n",
        "    def __getitem__(self, index):\n",
        "        text = self.data[index]\n",
        "        label = self.labels[index]\n",
        "\n",
        "        # Convert text to numerical indices using the vocabulary\n",
        "        numerical_indices = [self.vocab[word] for word in text]\n",
        "        numerical_indices =torch.as_tensor(numerical_indices, dtype=torch.long)\n",
        "\n",
        "        # Convert label to one-hot encoding\n",
        "        one_hot_label = one_hot(torch.as_tensor(label, dtype=torch.long), num_classes=2)\n",
        "\n",
        "        sample = {'data': numerical_indices, 'label': one_hot_label}\n",
        "\n",
        "        if self.transform:\n",
        "            sample = self.transform(sample)\n",
        "\n",
        "        return sample"
      ]
    },
    {
      "cell_type": "code",
      "execution_count": 20,
      "metadata": {
        "id": "ekVp3K5Vcll9"
      },
      "outputs": [],
      "source": [
        "twitterdataset = CustomDataset(data=processedtext, labels=sentiment, vocab = vocab)"
      ]
    },
    {
      "cell_type": "code",
      "execution_count": 21,
      "metadata": {
        "id": "9BSuhAAFcuv4"
      },
      "outputs": [],
      "source": [
        "data = twitterdataset.data\n",
        "labels = twitterdataset.labels\n",
        "\n",
        "\n",
        "train_data, test_data, train_labels, test_labels = train_test_split(\n",
        "    data, labels, test_size=0.2, stratify=labels, random_state=42\n",
        ")\n",
        "\n",
        "# Further split the test set into validation and test sets\n",
        "validation_data, test_data, validation_labels, test_labels = train_test_split(\n",
        "    test_data, test_labels, test_size=0.5, stratify=test_labels, random_state=42\n",
        ")"
      ]
    },
    {
      "cell_type": "markdown",
      "metadata": {
        "id": "c2hXVobGkQmX"
      },
      "source": [
        "Here I am  pulling a random sentece from the data to verify that it is being stored correctly\n",
        "\n"
      ]
    },
    {
      "cell_type": "code",
      "execution_count": 22,
      "metadata": {
        "colab": {
          "base_uri": "https://localhost:8080/"
        },
        "id": "zCjXMlmmlfmE",
        "outputId": "7fac010b-61af-4cf5-903f-648bea07c193"
      },
      "outputs": [
        {
          "output_type": "stream",
          "name": "stdout",
          "text": [
            "home throat killing need cook work clean shower apply internship busy busy\n"
          ]
        }
      ],
      "source": [
        "print(train_data[10])"
      ]
    },
    {
      "cell_type": "code",
      "execution_count": 23,
      "metadata": {
        "colab": {
          "base_uri": "https://localhost:8080/"
        },
        "id": "zD49viYwBpOK",
        "outputId": "732baeba-bfb3-4b59-c85a-1205c44a7654"
      },
      "outputs": [
        {
          "output_type": "stream",
          "name": "stdout",
          "text": [
            "0\n"
          ]
        }
      ],
      "source": [
        "print(train_labels[10])"
      ]
    },
    {
      "cell_type": "markdown",
      "metadata": {
        "id": "Adks-iMpHYS-"
      },
      "source": [
        "Here we pad the data so it can be used in the data loader"
      ]
    },
    {
      "cell_type": "code",
      "execution_count": 24,
      "metadata": {
        "id": "v1ljZCddHXCI"
      },
      "outputs": [],
      "source": [
        "def collate_fn(batch):\n",
        "    data = [torch.tensor(item['data']) for item in batch]\n",
        "    label = [item['label'] for item in batch]\n",
        "\n",
        "\n",
        "    # Pad sequences to the length of the longest sequence in the batch\n",
        "    data_padded = pad_sequence(data, batch_first=True, padding_value=0)\n",
        "\n",
        "    # Stack one-hot encoded labels\n",
        "    label_stacked = torch.stack(label, dim=0)\n",
        "\n",
        "    return {'data': data_padded, 'label': label_stacked}"
      ]
    },
    {
      "cell_type": "code",
      "execution_count": 25,
      "metadata": {
        "id": "0YWzvSOiGXRQ"
      },
      "outputs": [],
      "source": [
        "from torch.utils.data import DataLoader\n",
        "\n",
        "batch_size = 128\n",
        "\n",
        "train_dataset = CustomDataset(train_data, train_labels, vocab)\n",
        "validation_dataset = CustomDataset(validation_data, validation_labels, vocab)\n",
        "test_dataset = CustomDataset(test_data, test_labels, vocab)\n",
        "\n",
        "# Calculate the number of samples to use (20% of the dataset)\n",
        "trainnum_samples = int(0.2 * len(train_dataset))\n",
        "valnum_samples = int(0.2 * len(validation_dataset))\n",
        "testnum_samples = int(0.2 * len(test_dataset))\n",
        "\n",
        "# Create indices for the subset\n",
        "trainindices = torch.randperm(len(train_dataset))[:trainnum_samples]\n",
        "valindices = torch.randperm(len(validation_dataset))[:valnum_samples]\n",
        "testindices = torch.randperm(len(test_dataset))[:testnum_samples]\n",
        "\n",
        "# Create a SubsetRandomSampler using the indices\n",
        "trainsubset_sampler = SubsetRandomSampler(trainindices)\n",
        "valsubset_sampler = SubsetRandomSampler(valindices)\n",
        "testsubset_sampler = SubsetRandomSampler(testindices)\n",
        "\n",
        "\n",
        "\n",
        "# Create DataLoader instances for training, validation, and test sets\n",
        "train_loader = DataLoader(train_dataset, batch_size=batch_size, shuffle=False, collate_fn=collate_fn, sampler=trainsubset_sampler)\n",
        "validation_loader = DataLoader(validation_dataset, batch_size=batch_size, shuffle=False, collate_fn=collate_fn, sampler=valsubset_sampler)\n",
        "test_loader = DataLoader(test_dataset, batch_size=batch_size, shuffle=False, collate_fn=collate_fn, sampler=testsubset_sampler)\n"
      ]
    },
    {
      "cell_type": "code",
      "execution_count": 26,
      "metadata": {
        "colab": {
          "base_uri": "https://localhost:8080/"
        },
        "id": "UnHEnHALSbrb",
        "outputId": "826eb452-fd86-4b7b-d5e3-471d6ed86451"
      },
      "outputs": [
        {
          "output_type": "stream",
          "name": "stdout",
          "text": [
            "Number of batches in the DataLoader: 2000\n"
          ]
        }
      ],
      "source": [
        "num_batches = len(train_loader)\n",
        "\n",
        "print(f\"Number of batches in the DataLoader: {num_batches}\")"
      ]
    },
    {
      "cell_type": "markdown",
      "metadata": {
        "id": "4vmSKrnSHvUr"
      },
      "source": [
        "To check that my data loaders are storing correct information, I check a couple samples from the first batch"
      ]
    },
    {
      "cell_type": "code",
      "execution_count": 27,
      "metadata": {
        "colab": {
          "base_uri": "https://localhost:8080/"
        },
        "id": "ptmMk-3LGwZO",
        "outputId": "11af6800-e47a-4710-a98b-71e3f263f402"
      },
      "outputs": [
        {
          "output_type": "stream",
          "name": "stdout",
          "text": [
            "Sample 1: \n",
            "Data (Mapped to Integers): tensor([ 736,    0, 5941,  505,  452, 3158,    0,  452,  119,    0, 1389,    0,\n",
            "           0,    0,    0,    0,    0,    0,    0,    0,    0,    0,    0,    0,\n",
            "           0,    0,    0,    0,    0,    0,    0,    0,    0,    0,    0,    0,\n",
            "           0,    0,    0,    0,    0,    0,    0,    0,    0,    0,    0,    0,\n",
            "           0,    0,    0,    0,    0,    0,    0,    0,    0,    0,    0,    0,\n",
            "           0,    0,    0,    0,    0,    0,    0,    0,    0,    0,    0,    0,\n",
            "           0,    0,    0,    0,    0,    0,    0,    0,    0,    0,    0,    0,\n",
            "           0,    0,    0,    0,    0,    0,    0,    0,    0,    0,    0,    0,\n",
            "           0,    0,    0,    0,    0,    0,    0])\n",
            "Label (One-Hot Encoding): tensor([0, 1])\n",
            "Sample 2: \n",
            "Data (Mapped to Integers): tensor([ 505,  452,  736, 6949,    0, 5941,  147,  523,  452, 4193, 6949, 1624,\n",
            "         222,    0, 1389,  452,  452, 6949, 5941,  147,  623,    0,    0,  505,\n",
            "        1389, 1624, 4193, 6949,    0,   85,    0, 1389,    0,  623,    9,  452,\n",
            "        4193, 4193,    0, 1389,  452,    0,  147,    0,  188,  452,  147, 6949,\n",
            "           0,  188,  452,  505,  505,    0,    0,    0,    0,    0,    0,    0,\n",
            "           0,    0,    0,    0,    0,    0,    0,    0,    0,    0,    0,    0,\n",
            "           0,    0,    0,    0,    0,    0,    0,    0,    0,    0,    0,    0,\n",
            "           0,    0,    0,    0,    0,    0,    0,    0,    0,    0,    0,    0,\n",
            "           0,    0,    0,    0,    0,    0,    0])\n",
            "Label (One-Hot Encoding): tensor([0, 1])\n"
          ]
        },
        {
          "output_type": "stream",
          "name": "stderr",
          "text": [
            "<ipython-input-24-fee60e2c4e5e>:2: UserWarning: To copy construct from a tensor, it is recommended to use sourceTensor.clone().detach() or sourceTensor.clone().detach().requires_grad_(True), rather than torch.tensor(sourceTensor).\n",
            "  data = [torch.tensor(item['data']) for item in batch]\n"
          ]
        }
      ],
      "source": [
        "for batch in validation_loader:\n",
        "    # Access data and labels from the batch\n",
        "    data_batch = batch['data']\n",
        "    label_batch = batch['label']\n",
        "\n",
        "    # Print a couple of samples from the batch\n",
        "    for i in range(min(2, len(data_batch))):  # Print at most 2 samples\n",
        "        print(\"Sample {}: \".format(i + 1))\n",
        "        print(\"Data (Mapped to Integers):\", data_batch[i])\n",
        "        print(\"Label (One-Hot Encoding):\", label_batch[i])\n",
        "\n",
        "    # Break the loop after the first batch for demonstration purposes\n",
        "    break"
      ]
    },
    {
      "cell_type": "markdown",
      "metadata": {
        "id": "_LliPHooWbP5"
      },
      "source": [
        "## Transformer Model"
      ]
    },
    {
      "cell_type": "code",
      "execution_count": 28,
      "metadata": {
        "colab": {
          "base_uri": "https://localhost:8080/"
        },
        "id": "GJBARET3KUL5",
        "outputId": "4454ebc4-c221-4938-fd0d-7fae8fdffa68"
      },
      "outputs": [
        {
          "output_type": "stream",
          "name": "stdout",
          "text": [
            "20000\n"
          ]
        }
      ],
      "source": [
        "print(len(vocab))"
      ]
    },
    {
      "cell_type": "markdown",
      "metadata": {
        "id": "9WRvC6DAvbiP"
      },
      "source": [
        "Now i will build a transformer model"
      ]
    },
    {
      "cell_type": "code",
      "execution_count": 29,
      "metadata": {
        "id": "NfEJS-wKXPQL"
      },
      "outputs": [],
      "source": [
        "from torch.nn import TransformerEncoder, TransformerEncoderLayer\n",
        "class TransformerClassifier(nn.Module):\n",
        "    def __init__(self, vocab_size, d_model, nhead, hiddendim, numlayers, num_classes=2, dropout = 0.1, max_len=200):\n",
        "        super(TransformerClassifier, self).__init__()\n",
        "        # Embedding layer\n",
        "        self.embedding = nn.Embedding(vocab_size, d_model)\n",
        "\n",
        "        #positional encoding\n",
        "        self.positional_encoding = PositionalEncoding(d_model, max_len=max_len)\n",
        "\n",
        "        # Transformer layer\n",
        "        transformer_layer = TransformerEncoderLayer(d_model=d_model, nhead=nhead, dim_feedforward=hiddendim, dropout=dropout)\n",
        "        self.transformer = TransformerEncoder(transformer_layer, num_layers=numlayers)\n",
        "        # Output layer\n",
        "        self.fc = nn.Linear(d_model, num_classes)\n",
        "\n",
        "    def forward(self, x):\n",
        "        x = self.embedding(x)\n",
        "        x = self.positional_encoding(x)\n",
        "        x = self.transformer(x)\n",
        "        x = torch.mean(x, dim=1)\n",
        "\n",
        "        x = self.fc(x)\n",
        "        return x"
      ]
    },
    {
      "cell_type": "code",
      "execution_count": 30,
      "metadata": {
        "id": "bWounEq-3Az-"
      },
      "outputs": [],
      "source": [
        "class PositionalEncoding(nn.Module):\n",
        "    def __init__(self, d_model, max_len=50):\n",
        "        super(PositionalEncoding, self).__init__()\n",
        "        self.dropout = nn.Dropout(p=0.1)\n",
        "        position = torch.arange(0, max_len).unsqueeze(1).float()\n",
        "        div_term = torch.exp(torch.arange(0, d_model, 2).float() * -(math.log(10000.0) / d_model))\n",
        "        pe = torch.zeros(1, max_len, d_model)\n",
        "        pe[0, :, 0::2] = torch.sin(position * div_term)\n",
        "        pe[0, :, 1::2] = torch.cos(position * div_term)\n",
        "        self.register_buffer('pe', pe)\n",
        "\n",
        "    def forward(self, x):\n",
        "        x = x + self.pe[:, :x.size(1)].detach()\n",
        "        return self.dropout(x)"
      ]
    },
    {
      "cell_type": "code",
      "execution_count": 31,
      "metadata": {
        "id": "AwasSHdUalCp"
      },
      "outputs": [],
      "source": [
        "def weights_init(m):\n",
        "    if isinstance(m, torch.nn.Linear):\n",
        "        torch.nn.init.xavier_uniform_(m.weight)\n",
        "        m.bias.data.fill_(0.01)\n",
        "\n"
      ]
    },
    {
      "cell_type": "code",
      "execution_count": 32,
      "metadata": {
        "id": "MiwUkgEHvOoL"
      },
      "outputs": [],
      "source": [
        "def train_model(num_epochs,learning_rate,trainloader,valloader, num_heads, hiddendim, embeddingdim, numlayers, dropout):\n",
        "    #model = CustomTransformer(input_size, hidden_dim, num_layers, num_heads, output_dim)\n",
        "    model = TransformerClassifier(vocab_size=len(vocab), d_model = embeddingdim, nhead=num_heads, hiddendim=hiddendim, numlayers=numlayers, dropout=dropout).to(device)\n",
        "    print(model)\n",
        "    model.apply(weights_init)\n",
        "\n",
        "    t = time.time()\n",
        "\n",
        "\n",
        "    criterion = nn.CrossEntropyLoss()\n",
        "\n",
        "    optimizer = torch.optim.Adam(model.parameters(), lr=learning_rate)\n",
        "    scheduler = torch.optim.lr_scheduler.StepLR(optimizer, 5.0, gamma=0.9)\n",
        "    train_losses = []\n",
        "    val_losses = []\n",
        "    val_accuracies = []\n",
        "    for epoch in range(num_epochs):\n",
        "      model.train()\n",
        "      running_loss = 0.0\n",
        "      for batch in trainloader:\n",
        "\n",
        "          inputs = batch['data'].to(device)\n",
        "          targets = batch['label'].to(device)\n",
        "          optimizer.zero_grad()\n",
        "\n",
        "          # Forward pass\n",
        "          outputs = model(inputs)\n",
        "          #outputs = torch.relu(outputs)\n",
        "\n",
        "          #outputs = torch.sigmoid(outputs)\n",
        "          #print(outputs)\n",
        "          targets = targets.type(torch.FloatTensor)\n",
        "          # Compute the loss\n",
        "          targets = torch.argmax(targets, dim=1).to(device)\n",
        "          loss = criterion(outputs, targets)\n",
        "\n",
        "          #predicted_labels = torch.argmax(outputs, dim=1)\n",
        "          _, predicted = torch.max(outputs, 1)\n",
        "          #print(targets)\n",
        "          # Backward pass and optimization\n",
        "          loss.backward()\n",
        "\n",
        "          torch.nn.utils.clip_grad_norm_(model.parameters(), 0.5)\n",
        "\n",
        "          optimizer.step()\n",
        "\n",
        "          running_loss += loss.item()\n",
        "\n",
        "      train_loss = running_loss / len(trainloader)\n",
        "      train_losses.append(train_loss)\n",
        "\n",
        "\n",
        "      # Validation\n",
        "      model.eval()\n",
        "      val_loss = 0.0\n",
        "      correct = 0\n",
        "      total = 0\n",
        "      with torch.no_grad():\n",
        "          for batch in valloader:\n",
        "\n",
        "              inputs = batch['data'].to(device)\n",
        "              #print(inputs)\n",
        "              targets = batch['label'].to(device)\n",
        "              targets = targets.type(torch.FloatTensor)\n",
        "              outputs = model(inputs)\n",
        "              targets = torch.argmax(targets, dim=1).to(device)\n",
        "\n",
        "\n",
        "\n",
        "              loss = criterion(outputs, targets)\n",
        "              val_loss += loss.item()\n",
        "\n",
        "\n",
        "\n",
        "              #_, predicted = torch.max(outputs, 0)\n",
        "              predicted_labels = torch.argmax(outputs, dim=1)\n",
        "              #print(predicted_labels)\n",
        "              # Convert one-hot encoded target to class indices\n",
        "              #print(predicted_labels)\n",
        "\n",
        "              true_labels = targets\n",
        "              #print(true_labels)\n",
        "              total += len(true_labels)\n",
        "              # correct += (predicted == labels).sum().item()\n",
        "              correct += (predicted_labels == true_labels).sum().item()\n",
        "      val_loss /= len(valloader)\n",
        "      val_losses.append(val_loss)\n",
        "      val_accuracy = 100*(correct/total)\n",
        "      #val_accuracy = 0\n",
        "      val_accuracies.append(val_accuracy)\n",
        "      #val_accuracies.append(0)\n",
        "\n",
        "      # Print the training and validation metrics for the current epoch\n",
        "      print(f'Epoch [{epoch + 1}/{num_epochs}] - '\n",
        "            f'Train Loss: {train_loss:.4f} - '\n",
        "            f'Validation Loss: {val_loss:.4f} - '\n",
        "            f'Scheduler LR: {scheduler.get_lr()[0]} -'\n",
        "            f'Validation Accuracy: {val_accuracy:.2f}%')\n",
        "      print(f'Time Taken: {round(time.time()-t)} seconds')\n",
        "    print('Finished Training')\n",
        "    losses = (train_losses, val_losses,val_accuracies)\n",
        "    return (losses, model)"
      ]
    },
    {
      "cell_type": "code",
      "execution_count": 33,
      "metadata": {
        "id": "3TJ4Cflf40RQ"
      },
      "outputs": [],
      "source": [
        "def plot_losses(losses):\n",
        "    train_losses,val_losses,val_accuracies = losses\n",
        "    epochs = range(1, len(train_losses) + 1)\n",
        "\n",
        "\n",
        "    plt.plot(epochs, train_losses, label='Training Loss', marker='o', linestyle='-', color='b')\n",
        "\n",
        "\n",
        "    plt.plot(epochs, val_losses, label='Validation Loss', marker='o', linestyle='-', color='r')\n",
        "\n",
        "\n",
        "    plt.xlabel('Epochs')\n",
        "    plt.ylabel('Loss')\n",
        "    plt.title('Training & Validation Loss Curves')\n",
        "    plt.legend()\n",
        "\n",
        "\n",
        "    plt.show()"
      ]
    },
    {
      "cell_type": "markdown",
      "metadata": {
        "id": "gjErgRXs8DIj"
      },
      "source": [
        "best model so far"
      ]
    },
    {
      "cell_type": "code",
      "execution_count": 34,
      "metadata": {
        "colab": {
          "base_uri": "https://localhost:8080/",
          "height": 1000
        },
        "id": "ary30DmV44-j",
        "outputId": "83a20dfd-5fd2-4b9b-9fa0-3e287d314932"
      },
      "outputs": [
        {
          "output_type": "stream",
          "name": "stderr",
          "text": [
            "/usr/local/lib/python3.10/dist-packages/torch/nn/modules/transformer.py:282: UserWarning: enable_nested_tensor is True, but self.use_nested_tensor is False because encoder_layer.self_attn.batch_first was not True(use batch_first for better inference performance)\n",
            "  warnings.warn(f\"enable_nested_tensor is True, but self.use_nested_tensor is False because {why_not_sparsity_fast_path}\")\n"
          ]
        },
        {
          "output_type": "stream",
          "name": "stdout",
          "text": [
            "TransformerClassifier(\n",
            "  (embedding): Embedding(20000, 40)\n",
            "  (positional_encoding): PositionalEncoding(\n",
            "    (dropout): Dropout(p=0.1, inplace=False)\n",
            "  )\n",
            "  (transformer): TransformerEncoder(\n",
            "    (layers): ModuleList(\n",
            "      (0-1): 2 x TransformerEncoderLayer(\n",
            "        (self_attn): MultiheadAttention(\n",
            "          (out_proj): NonDynamicallyQuantizableLinear(in_features=40, out_features=40, bias=True)\n",
            "        )\n",
            "        (linear1): Linear(in_features=40, out_features=80, bias=True)\n",
            "        (dropout): Dropout(p=0.2, inplace=False)\n",
            "        (linear2): Linear(in_features=80, out_features=40, bias=True)\n",
            "        (norm1): LayerNorm((40,), eps=1e-05, elementwise_affine=True)\n",
            "        (norm2): LayerNorm((40,), eps=1e-05, elementwise_affine=True)\n",
            "        (dropout1): Dropout(p=0.2, inplace=False)\n",
            "        (dropout2): Dropout(p=0.2, inplace=False)\n",
            "      )\n",
            "    )\n",
            "  )\n",
            "  (fc): Linear(in_features=40, out_features=2, bias=True)\n",
            ")\n"
          ]
        },
        {
          "output_type": "stream",
          "name": "stderr",
          "text": [
            "<ipython-input-24-fee60e2c4e5e>:2: UserWarning: To copy construct from a tensor, it is recommended to use sourceTensor.clone().detach() or sourceTensor.clone().detach().requires_grad_(True), rather than torch.tensor(sourceTensor).\n",
            "  data = [torch.tensor(item['data']) for item in batch]\n",
            "/usr/local/lib/python3.10/dist-packages/torch/optim/lr_scheduler.py:384: UserWarning: To get the last learning rate computed by the scheduler, please use `get_last_lr()`.\n",
            "  warnings.warn(\"To get the last learning rate computed by the scheduler, \"\n"
          ]
        },
        {
          "output_type": "stream",
          "name": "stdout",
          "text": [
            "Epoch [1/20] - Train Loss: 0.6811 - Validation Loss: 0.6701 - Scheduler LR: 0.0005 -Validation Accuracy: 59.23%\n",
            "Time Taken: 79 seconds\n",
            "Epoch [2/20] - Train Loss: 0.6713 - Validation Loss: 0.6682 - Scheduler LR: 0.0005 -Validation Accuracy: 59.64%\n",
            "Time Taken: 155 seconds\n",
            "Epoch [3/20] - Train Loss: 0.6692 - Validation Loss: 0.6661 - Scheduler LR: 0.0005 -Validation Accuracy: 59.80%\n",
            "Time Taken: 232 seconds\n",
            "Epoch [4/20] - Train Loss: 0.6677 - Validation Loss: 0.6644 - Scheduler LR: 0.0005 -Validation Accuracy: 59.92%\n",
            "Time Taken: 309 seconds\n",
            "Epoch [5/20] - Train Loss: 0.6665 - Validation Loss: 0.6630 - Scheduler LR: 0.0005 -Validation Accuracy: 60.15%\n",
            "Time Taken: 387 seconds\n",
            "Epoch [6/20] - Train Loss: 0.6654 - Validation Loss: 0.6654 - Scheduler LR: 0.0005 -Validation Accuracy: 59.98%\n",
            "Time Taken: 467 seconds\n",
            "Epoch [7/20] - Train Loss: 0.6646 - Validation Loss: 0.6628 - Scheduler LR: 0.0005 -Validation Accuracy: 60.35%\n",
            "Time Taken: 544 seconds\n",
            "Epoch [8/20] - Train Loss: 0.6640 - Validation Loss: 0.6625 - Scheduler LR: 0.0005 -Validation Accuracy: 60.17%\n",
            "Time Taken: 622 seconds\n",
            "Epoch [9/20] - Train Loss: 0.6631 - Validation Loss: 0.6626 - Scheduler LR: 0.0005 -Validation Accuracy: 60.61%\n",
            "Time Taken: 700 seconds\n",
            "Epoch [10/20] - Train Loss: 0.6628 - Validation Loss: 0.6604 - Scheduler LR: 0.0005 -Validation Accuracy: 60.80%\n",
            "Time Taken: 777 seconds\n",
            "Epoch [11/20] - Train Loss: 0.6620 - Validation Loss: 0.6593 - Scheduler LR: 0.0005 -Validation Accuracy: 60.63%\n",
            "Time Taken: 855 seconds\n",
            "Epoch [12/20] - Train Loss: 0.6615 - Validation Loss: 0.6587 - Scheduler LR: 0.0005 -Validation Accuracy: 60.88%\n",
            "Time Taken: 940 seconds\n",
            "Epoch [13/20] - Train Loss: 0.6609 - Validation Loss: 0.6584 - Scheduler LR: 0.0005 -Validation Accuracy: 60.85%\n",
            "Time Taken: 1023 seconds\n",
            "Epoch [14/20] - Train Loss: 0.6609 - Validation Loss: 0.6597 - Scheduler LR: 0.0005 -Validation Accuracy: 60.72%\n",
            "Time Taken: 1102 seconds\n",
            "Epoch [15/20] - Train Loss: 0.6605 - Validation Loss: 0.6583 - Scheduler LR: 0.0005 -Validation Accuracy: 61.05%\n",
            "Time Taken: 1179 seconds\n",
            "Epoch [16/20] - Train Loss: 0.6604 - Validation Loss: 0.6573 - Scheduler LR: 0.0005 -Validation Accuracy: 61.12%\n",
            "Time Taken: 1255 seconds\n",
            "Epoch [17/20] - Train Loss: 0.6599 - Validation Loss: 0.6599 - Scheduler LR: 0.0005 -Validation Accuracy: 60.81%\n",
            "Time Taken: 1338 seconds\n",
            "Epoch [18/20] - Train Loss: 0.6598 - Validation Loss: 0.6571 - Scheduler LR: 0.0005 -Validation Accuracy: 61.06%\n",
            "Time Taken: 1414 seconds\n",
            "Epoch [19/20] - Train Loss: 0.6596 - Validation Loss: 0.6566 - Scheduler LR: 0.0005 -Validation Accuracy: 61.07%\n",
            "Time Taken: 1492 seconds\n",
            "Epoch [20/20] - Train Loss: 0.6593 - Validation Loss: 0.6565 - Scheduler LR: 0.0005 -Validation Accuracy: 61.12%\n",
            "Time Taken: 1569 seconds\n",
            "Finished Training\n"
          ]
        },
        {
          "output_type": "display_data",
          "data": {
            "text/plain": [
              "<Figure size 640x480 with 1 Axes>"
            ],
            "image/png": "[encoded data removed]"
          },
          "metadata": {}
        }
      ],
      "source": [
        "num_epochs = 20\n",
        "learning_rate = 0.0005\n",
        "num_heads = 5\n",
        "hiddendim = 80\n",
        "numlayers = 2\n",
        "embeddingdim = 40\n",
        "\n",
        "losses,finalmodel = train_model(num_epochs,learning_rate,train_loader,train_loader, num_heads, hiddendim, embeddingdim, numlayers, dropout = 0.2)\n",
        "plot_losses(losses)"
      ]
    },
    {
      "cell_type": "markdown",
      "metadata": {
        "id": "3iNNS6paSY0P"
      },
      "source": [
        "This is currently best model getting accuracy of close to 60 percent in around 79 seconds per epoch on gpu"
      ]
    },
    {
      "cell_type": "markdown",
      "source": [
        "Next I will evaluate the model using our test data"
      ],
      "metadata": {
        "id": "cvmBCitmOmKz"
      }
    },
    {
      "cell_type": "code",
      "source": [
        "finalmodel.eval()\n",
        "\n",
        "# Assuming you have a DataLoader for the test dataset, named test_loader\n",
        "# test_loader = ...\n",
        "\n",
        "correct = 0\n",
        "total = 0\n",
        "\n",
        "# Iterate through the test dataset\n",
        "with torch.no_grad():  # Disable gradient computation during inference\n",
        "    for batch in test_loader:\n",
        "        # Forward pass\n",
        "        inputs = batch['data'].to(device)\n",
        "        targets = batch['label'].to(device)\n",
        "        targets = targets.type(torch.FloatTensor)\n",
        "        outputs = finalmodel(inputs)\n",
        "        targets = torch.argmax(targets, dim=1).to(device)\n",
        "\n",
        "\n",
        "        # Get predictions\n",
        "        predicted_labels = torch.argmax(outputs, dim=1)\n",
        "\n",
        "        # Update counts\n",
        "        true_labels = targets\n",
        "\n",
        "        total += len(true_labels)\n",
        "\n",
        "        correct += (predicted_labels == true_labels).sum().item()\n",
        "\n",
        "\n",
        "\n",
        "# Compute accuracy\n",
        "test_accuracy = correct / total\n",
        "print(f'Test Accuracy: {test_accuracy * 100:.2f}%')"
      ],
      "metadata": {
        "colab": {
          "base_uri": "https://localhost:8080/"
        },
        "id": "D-Sm0OH3N7Ye",
        "outputId": "96f2bdc3-8c15-41f5-9c31-9b06764408e1"
      },
      "execution_count": 35,
      "outputs": [
        {
          "output_type": "stream",
          "name": "stderr",
          "text": [
            "<ipython-input-24-fee60e2c4e5e>:2: UserWarning: To copy construct from a tensor, it is recommended to use sourceTensor.clone().detach() or sourceTensor.clone().detach().requires_grad_(True), rather than torch.tensor(sourceTensor).\n",
            "  data = [torch.tensor(item['data']) for item in batch]\n"
          ]
        },
        {
          "output_type": "stream",
          "name": "stdout",
          "text": [
            "Test Accuracy: 61.01%\n"
          ]
        }
      ]
    },
    {
      "cell_type": "code",
      "execution_count": null,
      "metadata": {
        "colab": {
          "background_save": true,
          "base_uri": "https://localhost:8080/"
        },
        "id": "HciWoiC3Octj",
        "outputId": "e54b18fe-6348-4c13-b975-ef031750fb35"
      },
      "outputs": [
        {
          "name": "stdout",
          "output_type": "stream",
          "text": [
            "TransformerClassifier(\n",
            "  (embedding): Embedding(10000, 512)\n",
            "  (transformer): TransformerEncoder(\n",
            "    (layers): ModuleList(\n",
            "      (0-3): 4 x TransformerEncoderLayer(\n",
            "        (self_attn): MultiheadAttention(\n",
            "          (out_proj): NonDynamicallyQuantizableLinear(in_features=512, out_features=512, bias=True)\n",
            "        )\n",
            "        (linear1): Linear(in_features=512, out_features=2048, bias=True)\n",
            "        (dropout): Dropout(p=0.1, inplace=False)\n",
            "        (linear2): Linear(in_features=2048, out_features=512, bias=True)\n",
            "        (norm1): LayerNorm((512,), eps=1e-05, elementwise_affine=True)\n",
            "        (norm2): LayerNorm((512,), eps=1e-05, elementwise_affine=True)\n",
            "        (dropout1): Dropout(p=0.1, inplace=False)\n",
            "        (dropout2): Dropout(p=0.1, inplace=False)\n",
            "      )\n",
            "    )\n",
            "  )\n",
            "  (fc): Linear(in_features=512, out_features=2, bias=True)\n",
            ")\n"
          ]
        },
        {
          "name": "stderr",
          "output_type": "stream",
          "text": [
            "<ipython-input-28-a1a8fb0b13a9>:2: UserWarning: To copy construct from a tensor, it is recommended to use sourceTensor.clone().detach() or sourceTensor.clone().detach().requires_grad_(True), rather than torch.tensor(sourceTensor).\n",
            "  data = [torch.tensor(item['data']) for item in batch]\n"
          ]
        },
        {
          "name": "stdout",
          "output_type": "stream",
          "text": [
            "Epoch [1/5] - Train Loss: 0.6800 - Validation Loss: 0.6665 - Validation Accuracy: 59.81%\n",
            "Time Taken: 1657 seconds\n",
            "Epoch [2/5] - Train Loss: 0.6682 - Validation Loss: 0.6648 - Validation Accuracy: 59.93%\n",
            "Time Taken: 3309 seconds\n",
            "Epoch [3/5] - Train Loss: 0.6668 - Validation Loss: 0.6656 - Validation Accuracy: 59.97%\n",
            "Time Taken: 4956 seconds\n",
            "Epoch [4/5] - Train Loss: 0.6664 - Validation Loss: 0.6647 - Validation Accuracy: 59.92%\n",
            "Time Taken: 6597 seconds\n",
            "Epoch [5/5] - Train Loss: 0.6669 - Validation Loss: 0.6643 - Validation Accuracy: 60.03%\n",
            "Time Taken: 8235 seconds\n",
            "Finished Training\n"
          ]
        },
        {
          "data": {
            "image/png": "[encoded data removed]",
            "text/plain": [
              "<Figure size 640x480 with 1 Axes>"
            ]
          },
          "metadata": {},
          "output_type": "display_data"
        }
      ],
      "source": [
        "num_epochs = 5\n",
        "learning_rate = 0.0001\n",
        "num_heads = 8\n",
        "hiddendim = 2048\n",
        "numlayers = 4\n",
        "embeddingdim = 512\n",
        "\n",
        "losses,finalmodel2 = train_model(num_epochs,learning_rate,train_loader,train_loader, num_heads, hiddendim, embeddingdim, numlayers)\n",
        "plot_losses(losses)"
      ]
    },
    {
      "cell_type": "markdown",
      "metadata": {
        "id": "_YVAeCUsdyf0"
      },
      "source": [
        "Now I will try create a transformer using a pretrained model and compare it to our custom model."
      ]
    }
  ],
  "metadata": {
    "accelerator": "GPU",
    "colab": {
      "provenance": []
    },
    "kernelspec": {
      "display_name": "Python 3",
      "name": "python3"
    },
    "language_info": {
      "name": "python"
    }
  },
  "nbformat": 4,
  "nbformat_minor": 0
}