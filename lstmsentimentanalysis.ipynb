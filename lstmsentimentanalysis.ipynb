{
  "cells": [
    {
      "cell_type": "markdown",
      "source": [
        "# Sentiment Analysis Research and Application\n",
        "## LSTM with word level tokenization\n",
        "## by raja batra and eli rejto"
      ],
      "metadata": {
        "id": "tAM0Thl636Mq"
      }
    },
    {
      "cell_type": "markdown",
      "source": [
        "This notebook goes over the process of preprocessing the sentiment 140 dataset with 1.6 million labeled tweets. Then we build an LSTM model and train the model using word level tokenization to predict the sentiment of tweets. The preprocessing of the data is the same process as the notebook with the transformer trained on word level tokenized data"
      ],
      "metadata": {
        "id": "AXCinrTv4AGg"
      }
    },
    {
      "cell_type": "code",
      "execution_count": 1,
      "metadata": {
        "id": "SaUGnLk2wX3k"
      },
      "outputs": [],
      "source": [
        "import torch\n",
        "import re\n",
        "import pandas as pd\n",
        "import nltk\n",
        "from nltk.stem import WordNetLemmatizer\n",
        "from nltk.corpus import stopwords\n",
        "from torch import nn, optim\n",
        "from torch.utils.data import Dataset\n",
        "from sklearn.model_selection import train_test_split\n",
        "import torchtext\n",
        "from torch.utils.data import Dataset, DataLoader, SubsetRandomSampler\n",
        "from torch.nn.utils.rnn import pad_sequence\n",
        "from torch.nn.functional import one_hot\n",
        "import torch.optim as optim\n",
        "import matplotlib.pyplot as plt\n",
        "import numpy as np"
      ]
    },
    {
      "cell_type": "code",
      "execution_count": 2,
      "metadata": {
        "colab": {
          "base_uri": "https://localhost:8080/"
        },
        "id": "ApgyW7tMwiS4",
        "outputId": "5f271916-d270-43ed-8cb2-da8f89917317"
      },
      "outputs": [
        {
          "output_type": "stream",
          "name": "stdout",
          "text": [
            "Mounted at /content/drive\n"
          ]
        }
      ],
      "source": [
        "from google.colab import drive\n",
        "drive.mount('/content/drive')"
      ]
    },
    {
      "cell_type": "code",
      "execution_count": 3,
      "metadata": {
        "colab": {
          "base_uri": "https://localhost:8080/"
        },
        "id": "cF6Lphv7yZEV",
        "outputId": "c7d680f4-9f8b-4e3c-abf5-dc70c29e6997"
      },
      "outputs": [
        {
          "output_type": "stream",
          "name": "stderr",
          "text": [
            "[nltk_data] Downloading package wordnet to /root/nltk_data...\n",
            "[nltk_data] Downloading package stopwords to /root/nltk_data...\n",
            "[nltk_data]   Unzipping corpora/stopwords.zip.\n"
          ]
        },
        {
          "output_type": "execute_result",
          "data": {
            "text/plain": [
              "True"
            ]
          },
          "metadata": {},
          "execution_count": 3
        }
      ],
      "source": [
        "nltk.download('wordnet')\n",
        "nltk.download('stopwords')"
      ]
    },
    {
      "cell_type": "markdown",
      "source": [
        "## The data we are using is Sentiment 140 from kaggle: https://www.kaggle.com/datasets/kazanova/sentiment140"
      ],
      "metadata": {
        "id": "-z9J8Pfm4riF"
      }
    },
    {
      "cell_type": "code",
      "execution_count": 4,
      "metadata": {
        "id": "yK_5ZNHcwnW4"
      },
      "outputs": [],
      "source": [
        " csvfile = '/content/drive/MyDrive/twitter.csv'"
      ]
    },
    {
      "cell_type": "code",
      "execution_count": 5,
      "metadata": {
        "id": "h7caRJAmwzVd"
      },
      "outputs": [],
      "source": [
        "\n",
        "DATASET_COLUMNS  = [\"sentiment\", \"ids\", \"date\", \"flag\", \"user\", \"text\"]\n",
        "DATASET_ENCODING = \"ISO-8859-1\"\n",
        "\n",
        "dataset = pd.read_csv(csvfile,\n",
        "                      encoding=DATASET_ENCODING , names=DATASET_COLUMNS)"
      ]
    },
    {
      "cell_type": "code",
      "execution_count": 6,
      "metadata": {
        "id": "N43I7P3CxaUR"
      },
      "outputs": [],
      "source": [
        "# Removing the unnecessary columns.\n",
        "dataset = dataset[['sentiment','text']]\n",
        "# Replacing the values to ease understanding.\n",
        "dataset['sentiment'] = dataset['sentiment'].replace(4,1)"
      ]
    },
    {
      "cell_type": "code",
      "execution_count": 7,
      "metadata": {
        "colab": {
          "base_uri": "https://localhost:8080/",
          "height": 489
        },
        "id": "uU2c2utnxfTu",
        "outputId": "46d2fc1a-07c9-4b5b-999e-787f5ccb623f"
      },
      "outputs": [
        {
          "output_type": "execute_result",
          "data": {
            "text/plain": [
              "[Text(0, 0, 'Negative'), Text(1, 0, 'Positive')]"
            ]
          },
          "metadata": {},
          "execution_count": 7
        },
        {
          "output_type": "display_data",
          "data": {
            "text/plain": [
              "<Figure size 640x480 with 1 Axes>"
            ],
            "image/png": "[encoded data removed]"
          },
          "metadata": {}
        }
      ],
      "source": [
        "ax = dataset.groupby('sentiment').count().plot(kind='bar', title='Distribution of data',\n",
        "                                               legend=False)\n",
        "ax.set_xticklabels(['Negative','Positive'], rotation=0)"
      ]
    },
    {
      "cell_type": "markdown",
      "source": [
        "This preprocesses our data. It replaces URLs, Emojis, usernames, non alphabets or numbers, lowercases text, removes stop words, and lemmatizes text"
      ],
      "metadata": {
        "id": "cOuXNHWi4N-x"
      }
    },
    {
      "cell_type": "code",
      "execution_count": 8,
      "metadata": {
        "id": "9nFH80GExiyc"
      },
      "outputs": [],
      "source": [
        "from nltk.stem import WordNetLemmatizer\n",
        "from nltk.corpus import stopwords\n",
        "def preprocess(textdata):\n",
        "    processedText = []\n",
        "\n",
        "\n",
        "    # Defining regex patterns.\n",
        "    urlPattern        = r\"((http://)[^ ]*|(https://)[^ ]*|( www\\.)[^ ]*)\"\n",
        "    userPattern       = '@[^\\s]+'\n",
        "    alphaPattern      = \"[^a-zA-Z0-9]\"\n",
        "    sequencePattern   = r\"(.)\\1\\1+\"\n",
        "    seqReplacePattern = r\"\\1\\1\"\n",
        "    lemmatizer = WordNetLemmatizer()\n",
        "    stop_words = set(stopwords.words(\"english\"))\n",
        "    for tweet in textdata:\n",
        "\n",
        "\n",
        "        # Replace all URls with 'URL'\n",
        "        tweet = re.sub(urlPattern,' URL',tweet)\n",
        "\n",
        "        # Replace @USERNAME to 'USER'.\n",
        "        tweet = re.sub(userPattern,' USER', tweet)\n",
        "        # Replace all non alphabets.\n",
        "        tweet = re.sub(alphaPattern, \" \", tweet)\n",
        "        # Replace 3 or more consecutive letters by 2 letter.\n",
        "        tweet = re.sub(sequencePattern, seqReplacePattern, tweet)\n",
        "        tweet = tweet.lower()\n",
        "\n",
        "        words = tweet.split()\n",
        "        #lemantize words\n",
        "        lemmatized_words = [lemmatizer.lemmatize(word) for word in words if word not in stop_words]\n",
        "\n",
        "\n",
        "        processed_tweet = ' '.join(lemmatized_words)\n",
        "\n",
        "\n",
        "\n",
        "        processedText.append(processed_tweet)\n",
        "\n",
        "    return processedText"
      ]
    },
    {
      "cell_type": "code",
      "execution_count": 9,
      "metadata": {
        "colab": {
          "base_uri": "https://localhost:8080/"
        },
        "id": "1SWuMeDmy3ih",
        "outputId": "f63295be-e88c-4767-fe3f-7e71bcf2f350"
      },
      "outputs": [
        {
          "output_type": "stream",
          "name": "stdout",
          "text": [
            "Text Preprocessing complete.\n",
            "Time Taken: 109 seconds\n"
          ]
        }
      ],
      "source": [
        "import time\n",
        "t = time.time()\n",
        "text, sentiment = list(dataset['text']), list(dataset['sentiment'])\n",
        "processedtext = preprocess(text)\n",
        "print(f'Text Preprocessing complete.')\n",
        "print(f'Time Taken: {round(time.time()-t)} seconds')"
      ]
    },
    {
      "cell_type": "markdown",
      "source": [
        "Here is an example of before and after we process the text:"
      ],
      "metadata": {
        "id": "Fxq3vz723iCS"
      }
    },
    {
      "cell_type": "code",
      "execution_count": 10,
      "metadata": {
        "colab": {
          "base_uri": "https://localhost:8080/"
        },
        "id": "ZdTmggLEy4zm",
        "outputId": "2d440a64-8b9f-4c9b-d9a5-b6801bf0015d"
      },
      "outputs": [
        {
          "output_type": "stream",
          "name": "stdout",
          "text": [
            " Body Of Missing Northern Calif. Girl Found: Police have found the remains of a missing Northern California girl .. http://tr.im/imji\n"
          ]
        }
      ],
      "source": [
        "print(text[100])"
      ]
    },
    {
      "cell_type": "code",
      "execution_count": 11,
      "metadata": {
        "colab": {
          "base_uri": "https://localhost:8080/"
        },
        "id": "BoXKsgGyy7M7",
        "outputId": "3a39ec10-4798-4a89-9047-cbc01527cdfd"
      },
      "outputs": [
        {
          "output_type": "stream",
          "name": "stdout",
          "text": [
            "body missing northern calif girl found police found remains missing northern california girl url\n"
          ]
        }
      ],
      "source": [
        "print(processedtext[100])"
      ]
    },
    {
      "cell_type": "code",
      "execution_count": 12,
      "metadata": {
        "colab": {
          "base_uri": "https://localhost:8080/"
        },
        "id": "5AK_zDl8zHHL",
        "outputId": "c243a625-4895-4866-bfc0-e2d258ee7651"
      },
      "outputs": [
        {
          "output_type": "stream",
          "name": "stdout",
          "text": [
            "@switchfoot http://twitpic.com/2y1zl - Awww, that's a bummer.  You shoulda got David Carr of Third Day to do it. ;D\n"
          ]
        }
      ],
      "source": [
        "print(text[0])"
      ]
    },
    {
      "cell_type": "code",
      "execution_count": 13,
      "metadata": {
        "colab": {
          "base_uri": "https://localhost:8080/"
        },
        "id": "6yrvNKPQzJTC",
        "outputId": "1fe9419c-eb52-4cda-8b88-5a46f9d7b87a"
      },
      "outputs": [
        {
          "output_type": "stream",
          "name": "stdout",
          "text": [
            "user url aww bummer shoulda got david carr third day\n"
          ]
        }
      ],
      "source": [
        "print(processedtext[0])"
      ]
    },
    {
      "cell_type": "markdown",
      "source": [
        "Next we build our vocabulary using torchtexts vocab function"
      ],
      "metadata": {
        "id": "Qirb-kEo3mDE"
      }
    },
    {
      "cell_type": "code",
      "execution_count": 14,
      "metadata": {
        "id": "3cp3B98azX2u"
      },
      "outputs": [],
      "source": [
        "from torchtext.data.utils import get_tokenizer\n",
        "from torchtext.vocab import build_vocab_from_iterator\n",
        "\n",
        "tokenizer = get_tokenizer('basic_english')\n",
        "train_iter = [(label, text) for label, text in enumerate(processedtext)]\n",
        "\n",
        "def yield_tokens(data_iter):\n",
        "    for _, text in data_iter:\n",
        "        yield tokenizer(text)\n",
        "\n",
        "# Build the vocabulary based on the training data\n",
        "vocab = build_vocab_from_iterator(yield_tokens(train_iter), specials=[\"<unk>\"], max_tokens=\n",
        "                                  10000)\n",
        "vocab.set_default_index(vocab[\"<unk>\"])"
      ]
    },
    {
      "cell_type": "code",
      "execution_count": 15,
      "metadata": {
        "colab": {
          "base_uri": "https://localhost:8080/"
        },
        "id": "31gdSLVDzdUc",
        "outputId": "e9029483-291a-47a3-9443-c4050a80b25a"
      },
      "outputs": [
        {
          "output_type": "stream",
          "name": "stdout",
          "text": [
            "honeymoon\n",
            "Index of 'lakers': 900\n",
            "10000\n"
          ]
        }
      ],
      "source": [
        "print(list(vocab.get_stoi().keys())[1349])\n",
        "word_index = vocab.get_stoi()['lakers']\n",
        "print(f\"Index of 'lakers': {word_index}\")\n",
        "print(len(vocab))"
      ]
    },
    {
      "cell_type": "markdown",
      "source": [
        "Now we build our dataset"
      ],
      "metadata": {
        "id": "sOifBmt83rK3"
      }
    },
    {
      "cell_type": "code",
      "execution_count": 16,
      "metadata": {
        "id": "fpkREjNbzg38"
      },
      "outputs": [],
      "source": [
        "class CustomDataset(Dataset):\n",
        "    def __init__(self, data, labels, vocab, transform=None):\n",
        "        self.data = data\n",
        "        self.labels = labels\n",
        "        self.transform = transform\n",
        "        self.vocab = vocab\n",
        "\n",
        "    def __len__(self):\n",
        "        return len(self.data)\n",
        "\n",
        "    def __getitem__(self, index):\n",
        "        text = self.data[index]\n",
        "        label = self.labels[index]\n",
        "\n",
        "        # Convert text to numerical indices using the vocabulary\n",
        "        numerical_indices = [self.vocab[word] for word in text]\n",
        "        numerical_indices =torch.as_tensor(numerical_indices, dtype=torch.long)\n",
        "\n",
        "        # Convert label to one-hot encoding\n",
        "        one_hot_label = one_hot(torch.as_tensor(label, dtype=torch.long), num_classes=2)\n",
        "\n",
        "        sample = {'data': numerical_indices, 'label': one_hot_label}\n",
        "\n",
        "        if self.transform:\n",
        "            sample = self.transform(sample)\n",
        "\n",
        "        return sample"
      ]
    },
    {
      "cell_type": "code",
      "execution_count": 17,
      "metadata": {
        "id": "PcQxyFMOzjas"
      },
      "outputs": [],
      "source": [
        "twitterdataset = CustomDataset(data=processedtext, labels=sentiment, vocab = vocab)"
      ]
    },
    {
      "cell_type": "markdown",
      "source": [
        "here we split the dataset into training test and validation"
      ],
      "metadata": {
        "id": "Vn-_qZym3tzh"
      }
    },
    {
      "cell_type": "code",
      "execution_count": 18,
      "metadata": {
        "id": "Ga2J4tNDzlxV"
      },
      "outputs": [],
      "source": [
        "data = twitterdataset.data\n",
        "labels = twitterdataset.labels\n",
        "\n",
        "\n",
        "train_data, test_data, train_labels, test_labels = train_test_split(\n",
        "    data, labels, test_size=0.2, stratify=labels, random_state=42\n",
        ")\n",
        "\n",
        "# Further split the test set into validation and test sets\n",
        "validation_data, test_data, validation_labels, test_labels = train_test_split(\n",
        "    test_data, test_labels, test_size=0.5, stratify=test_labels, random_state=42\n",
        ")"
      ]
    },
    {
      "cell_type": "code",
      "execution_count": 19,
      "metadata": {
        "colab": {
          "base_uri": "https://localhost:8080/"
        },
        "id": "43_4RSiYzrGZ",
        "outputId": "348d8c04-9c46-4c8f-9224-079cc6694d77"
      },
      "outputs": [
        {
          "output_type": "stream",
          "name": "stdout",
          "text": [
            "home throat killing need cook work clean shower apply internship busy busy\n"
          ]
        }
      ],
      "source": [
        "print(train_data[10])"
      ]
    },
    {
      "cell_type": "code",
      "execution_count": 20,
      "metadata": {
        "colab": {
          "base_uri": "https://localhost:8080/"
        },
        "id": "vS4PrEYgztB9",
        "outputId": "d14464ea-713f-4ce1-b7f1-fd125a1e29c3"
      },
      "outputs": [
        {
          "output_type": "stream",
          "name": "stdout",
          "text": [
            "0\n"
          ]
        }
      ],
      "source": [
        "print(train_labels[10])"
      ]
    },
    {
      "cell_type": "markdown",
      "source": [
        "This pads our data"
      ],
      "metadata": {
        "id": "AInlRAp-3xaA"
      }
    },
    {
      "cell_type": "code",
      "execution_count": 21,
      "metadata": {
        "id": "T7vT-m_XzvPb"
      },
      "outputs": [],
      "source": [
        "def collate_fn(batch):\n",
        "    data = [torch.tensor(item['data']) for item in batch]\n",
        "    label = [item['label'] for item in batch]\n",
        "\n",
        "    # Pad sequences to the length of the longest sequence in the batch\n",
        "    data_padded = pad_sequence(data, batch_first=True, padding_value=0)\n",
        "\n",
        "    # Stack one-hot encoded labels\n",
        "    label_stacked = torch.stack(label, dim=0)\n",
        "\n",
        "    return {'data': data_padded, 'label': label_stacked}"
      ]
    },
    {
      "cell_type": "markdown",
      "source": [
        "This build the train test and validation dataloaders"
      ],
      "metadata": {
        "id": "JfWKGkr93zN5"
      }
    },
    {
      "cell_type": "code",
      "execution_count": 22,
      "metadata": {
        "id": "3sfsAVv30uSF"
      },
      "outputs": [],
      "source": [
        "from torch.utils.data import DataLoader\n",
        "\n",
        "batch_size = 128\n",
        "\n",
        "train_dataset = CustomDataset(train_data, train_labels, vocab)\n",
        "validation_dataset = CustomDataset(validation_data, validation_labels, vocab)\n",
        "test_dataset = CustomDataset(test_data, test_labels, vocab)\n",
        "\n",
        "# Calculate the number of samples to use (20% of the dataset)\n",
        "trainnum_samples = int(0.2 * len(train_dataset))\n",
        "valnum_samples = int(0.2 * len(validation_dataset))\n",
        "testnum_samples = int(0.2 * len(test_dataset))\n",
        "\n",
        "# Create indices for the subset\n",
        "trainindices = torch.randperm(len(train_dataset))[:trainnum_samples]\n",
        "valindices = torch.randperm(len(validation_dataset))[:valnum_samples]\n",
        "testindices = torch.randperm(len(test_dataset))[:testnum_samples]\n",
        "\n",
        "# Create a SubsetRandomSampler using the indices\n",
        "trainsubset_sampler = SubsetRandomSampler(trainindices)\n",
        "valsubset_sampler = SubsetRandomSampler(valindices)\n",
        "testsubset_sampler = SubsetRandomSampler(testindices)\n",
        "\n",
        "\n",
        "\n",
        "# Create DataLoader instances for training, validation, and test sets\n",
        "#shuffle is false since randomly taking subsets of data\n",
        "train_loader = DataLoader(train_dataset, batch_size=batch_size, shuffle=False, collate_fn=collate_fn, sampler=trainsubset_sampler)\n",
        "validation_loader = DataLoader(validation_dataset, batch_size=batch_size, shuffle=False, collate_fn=collate_fn, sampler=valsubset_sampler)\n",
        "test_loader = DataLoader(test_dataset, batch_size=batch_size, shuffle=False, collate_fn=collate_fn, sampler=testsubset_sampler)"
      ]
    },
    {
      "cell_type": "code",
      "execution_count": 23,
      "metadata": {
        "colab": {
          "base_uri": "https://localhost:8080/"
        },
        "id": "wpdes6eY0wc9",
        "outputId": "9f524fe5-b02b-4254-8606-a3d3498cfa72"
      },
      "outputs": [
        {
          "output_type": "stream",
          "name": "stdout",
          "text": [
            "Number of batches in the DataLoader: 2000\n"
          ]
        }
      ],
      "source": [
        "num_batches = len(train_loader)\n",
        "\n",
        "print(f\"Number of batches in the DataLoader: {num_batches}\")"
      ]
    },
    {
      "cell_type": "code",
      "execution_count": 24,
      "metadata": {
        "colab": {
          "base_uri": "https://localhost:8080/"
        },
        "id": "ih3S_-w609XI",
        "outputId": "e89004c0-5efd-43a8-cb29-0ea7a6f03407"
      },
      "outputs": [
        {
          "output_type": "stream",
          "name": "stdout",
          "text": [
            "Sample 1: \n",
            "Data (Mapped to Integers): tensor([ 188, 1624,  188,    0,  736, 5941,  147,    0,  505,  505,    0,    0,\n",
            "         736, 1624,    9,  147, 3158,    0,  736, 5941,  505, 1389,    0, 4193,\n",
            "        6949,    0,  147, 3158,    0, 4193, 6949,    0,  222,    0,  640,  452,\n",
            "        5941,  222,    0,    0,  640,  147, 5941,  623,  966, 6949,  505,  452,\n",
            "           0,    0, 6949,  966, 1624,    9,  623,  966, 6949,    0, 5941, 1389,\n",
            "         244, 1624, 4193, 4193, 5941,  220,  505,  452,    0,    0,    0,    0,\n",
            "           0,    0,    0,    0,    0,    0,    0,    0,    0,    0,    0,    0,\n",
            "           0,    0,    0,    0,    0,    0,    0,    0,    0,    0,    0,    0,\n",
            "           0,    0,    0,    0])\n",
            "Label (One-Hot Encoding): tensor([0, 1])\n",
            "Sample 2: \n",
            "Data (Mapped to Integers): tensor([ 188, 1624,  147, 3158,  452,  222, 5941,  147,  623,    0,  322,    0,\n",
            "        1389,  452,    0,  244,    9, 6949, 6949, 5941,  147,  623,    0,  736,\n",
            "         222, 1624,  147, 6949,    0,  244,  966, 1624,  147,  452,    0,  244,\n",
            "           0,  322,    0,  244, 5941, 6949,    0,  505, 5941, 2055,  452, 3158,\n",
            "           0, 5941,  244,  966, 1624,  147,  452,    0,  966, 1389, 1389,    0,\n",
            "        1389, 5941,  147, 3158,    0,  220, 1624,  623,  623,  505, 5941,  147,\n",
            "         623,    0,    0,    0,    0,    0,    0,    0,    0,    0,    0,    0,\n",
            "           0,    0,    0,    0,    0,    0,    0,    0,    0,    0,    0,    0,\n",
            "           0,    0,    0,    0])\n",
            "Label (One-Hot Encoding): tensor([0, 1])\n"
          ]
        },
        {
          "output_type": "stream",
          "name": "stderr",
          "text": [
            "<ipython-input-21-a1a8fb0b13a9>:2: UserWarning: To copy construct from a tensor, it is recommended to use sourceTensor.clone().detach() or sourceTensor.clone().detach().requires_grad_(True), rather than torch.tensor(sourceTensor).\n",
            "  data = [torch.tensor(item['data']) for item in batch]\n"
          ]
        }
      ],
      "source": [
        "for batch in validation_loader:\n",
        "    # Access data and labels from the batch\n",
        "    data_batch = batch['data']\n",
        "    label_batch = batch['label']\n",
        "\n",
        "    # Print a couple of samples from the batch\n",
        "    for i in range(min(2, len(data_batch))):  # Print at most 2 samples\n",
        "        print(\"Sample {}: \".format(i + 1))\n",
        "        print(\"Data (Mapped to Integers):\", data_batch[i])\n",
        "        print(\"Label (One-Hot Encoding):\", label_batch[i])\n",
        "\n",
        "    # Break the loop after the first batch for demonstration purposes\n",
        "    break"
      ]
    },
    {
      "cell_type": "markdown",
      "metadata": {
        "id": "dJiE5LLd2SvA"
      },
      "source": [
        "#LSTM Model"
      ]
    },
    {
      "cell_type": "code",
      "execution_count": 25,
      "metadata": {
        "colab": {
          "base_uri": "https://localhost:8080/"
        },
        "id": "YYcnUD8JQZ9O",
        "outputId": "2b5c3035-a382-48ba-8d6c-39e2c6aaf31f"
      },
      "outputs": [
        {
          "output_type": "stream",
          "name": "stdout",
          "text": [
            "GPU is available\n"
          ]
        }
      ],
      "source": [
        "is_cuda = torch.cuda.is_available()\n",
        "\n",
        "# If we have a GPU available, we'll set our device to GPU. We'll use this device variable later in our code.\n",
        "if is_cuda:\n",
        "    device = torch.device(\"cuda\")\n",
        "    print(\"GPU is available\")\n",
        "else:\n",
        "    device = torch.device(\"cpu\")\n",
        "    print(\"GPU not available, CPU used\")"
      ]
    },
    {
      "cell_type": "code",
      "execution_count": 44,
      "metadata": {
        "id": "MVc3gNxwIsC9"
      },
      "outputs": [],
      "source": [
        "#using model based on https://www.kaggle.com/code/arunmohan003/sentiment-analysis-using-lstm-pytorch\n",
        "class SentimentClassifier(nn.Module):\n",
        "    def __init__(self,no_layers,vocab_size,hidden_dim,embedding_dim, output_dim, drop_prob=0.5):\n",
        "        super(SentimentClassifier,self).__init__()\n",
        "\n",
        "\n",
        "        self.hidden_dim = hidden_dim\n",
        "        self.no_layers = no_layers\n",
        "        # embedding and LSTM layers\n",
        "        self.embedding = nn.Embedding(vocab_size, embedding_dim)\n",
        "        #lstm\n",
        "        self.lstm = nn.LSTM(input_size=embedding_dim,hidden_size=self.hidden_dim,\n",
        "                           num_layers=no_layers, batch_first=True)\n",
        "\n",
        "        # linear and sigmoid layer\n",
        "        self.fc = nn.Linear(self.hidden_dim, output_dim)\n",
        "        self.sig = nn.Sigmoid()\n",
        "\n",
        "    def forward(self,x,hidden):\n",
        "        batch_size = x.size(0)\n",
        "        # embeddings and lstm_out\n",
        "        embeds = self.embedding(x)\n",
        "        lstm_out, hidden = self.lstm(embeds, hidden)\n",
        "\n",
        "        lstm_out = lstm_out.contiguous().view(-1, self.hidden_dim)\n",
        "\n",
        "        # dropout and fully connected layer\n",
        "        out = self.fc(lstm_out)\n",
        "\n",
        "        # sigmoid function\n",
        "        # get last batch of labels\n",
        "        sig_out = self.sig(out).view(batch_size, -1)[:, -1]\n",
        "\n",
        "        # return last sigmoid output and hidden state\n",
        "        return sig_out, hidden\n",
        "\n",
        "\n",
        "\n",
        "    def init_hidden(self, batch_size):\n",
        "        ''' Initializes hidden state '''\n",
        "        h0 = torch.zeros((self.no_layers,batch_size,self.hidden_dim)).to(device)\n",
        "        c0 = torch.zeros((self.no_layers,batch_size,self.hidden_dim)).to(device)\n",
        "\n",
        "        hidden = (h0,c0)\n",
        "        return hidden\n"
      ]
    },
    {
      "cell_type": "code",
      "execution_count": 46,
      "metadata": {
        "id": "p4K70vATJJX-"
      },
      "outputs": [],
      "source": [
        "\n",
        "def trainRNN(lr, epochs, clip, layers, embedding_dim = 64, numclasses = 1, hidden_dim = 64):\n",
        "  t = time.time()\n",
        "  no_layers = layers\n",
        "  vocab_size = len(vocab)\n",
        "  embedding_dim = embedding_dim\n",
        "  output_dim = numclasses\n",
        "  hidden_dim = hidden_dim\n",
        "  clip = 5\n",
        "\n",
        "\n",
        "  modeltest = SentimentClassifier(no_layers,vocab_size,hidden_dim,embedding_dim, output_dim, drop_prob=0.5).to(device)\n",
        "\n",
        "\n",
        "\n",
        "  criterion = nn.BCELoss()\n",
        "\n",
        "  optimizer = torch.optim.Adam(modeltest.parameters(), lr=lr)\n",
        "\n",
        "  valid_loss_min = np.Inf\n",
        "  # train for some number of epochs\n",
        "  epoch_tr_loss,epoch_vl_loss = [],[]\n",
        "  epoch_tr_acc,epoch_vl_acc = [],[]\n",
        "\n",
        "  for epoch in range(epochs):\n",
        "      train_losses = []\n",
        "      train_acc = 0.0\n",
        "      modeltest.train()\n",
        "      # initialize hidden state\n",
        "      h = modeltest.init_hidden(batch_size)\n",
        "\n",
        "      for batch in train_loader:\n",
        "\n",
        "          inputs = batch['data'].to(device)\n",
        "\n",
        "          targets = batch['label'].to(device)\n",
        "          targets = targets.type(torch.FloatTensor)\n",
        "\n",
        "          targets = torch.argmax(targets, dim=1)\n",
        "          labels = targets\n",
        "          labels = labels.to(device)\n",
        "\n",
        "          # Creating new variables for the hidden state\n",
        "          h = tuple([each.data for each in h])\n",
        "\n",
        "          modeltest.zero_grad()\n",
        "          output,h = modeltest(inputs,h)\n",
        "\n",
        "          # calculate the loss and perform backprop\n",
        "          loss = criterion(output.squeeze(), labels.float())\n",
        "          loss.backward()\n",
        "          train_losses.append(loss.item())\n",
        "          # calculating accuracy\n",
        "          accuracy = acc(output,labels)\n",
        "          train_acc += accuracy\n",
        "\n",
        "          #`clip_grad_norm` helps prevent the exploding gradient problem\n",
        "          nn.utils.clip_grad_norm_(modeltest.parameters(), clip)\n",
        "          optimizer.step()\n",
        "\n",
        "\n",
        "\n",
        "      val_h = modeltest.init_hidden(batch_size)\n",
        "      val_losses = []\n",
        "      val_acc = 0.0\n",
        "      modeltest.eval()\n",
        "      for batch in validation_loader:\n",
        "              val_h = tuple([each.data for each in val_h])\n",
        "\n",
        "\n",
        "              inputs = batch['data'].to(device)\n",
        "\n",
        "              targets = batch['label'].to(device)\n",
        "              targets = targets.type(torch.FloatTensor)\n",
        "\n",
        "              targets = torch.argmax(targets, dim=1)\n",
        "              labels = targets\n",
        "              labels = labels.to(device)\n",
        "\n",
        "              output, val_h = modeltest(inputs, val_h)\n",
        "\n",
        "              val_loss = criterion(output.squeeze(), labels.float())\n",
        "\n",
        "              val_losses.append(val_loss.item())\n",
        "\n",
        "              accuracy = acc(output,labels)\n",
        "              val_acc += accuracy\n",
        "\n",
        "      epoch_train_loss = np.mean(train_losses)\n",
        "      epoch_val_loss = np.mean(val_losses)\n",
        "      epoch_train_acc = train_acc/len(train_losses)\n",
        "      epoch_val_acc = val_acc/len(val_losses)\n",
        "      epoch_tr_loss.append(epoch_train_loss)\n",
        "      epoch_vl_loss.append(epoch_val_loss)\n",
        "      epoch_tr_acc.append(epoch_train_acc)\n",
        "      epoch_vl_acc.append(epoch_val_acc)\n",
        "      # Print the training and validation metrics for the current epoch\n",
        "      print(f'Epoch [{epoch + 1}/{epochs}] - '\n",
        "            f'Train Loss: {epoch_train_loss*100:.4f} - '\n",
        "            f'Validation Loss: {epoch_val_loss*100:.4f} - '\n",
        "            f'Validation Accuracy: {epoch_val_acc*100:.2f}%')\n",
        "      print(f'Time Taken: {round(time.time()-t)} seconds')\n",
        "  losses = (epoch_tr_loss, epoch_vl_loss, epoch_vl_acc)\n",
        "  return (losses, modeltest)\n",
        "\n",
        "# function to predict accuracy\n",
        "def acc(pred,label):\n",
        "    pred = torch.round(pred.squeeze())\n",
        "    return torch.sum(pred == label.squeeze()).item()/len(pred)\n"
      ]
    },
    {
      "cell_type": "code",
      "execution_count": 47,
      "metadata": {
        "id": "Su3JJ-FoZOxw"
      },
      "outputs": [],
      "source": [
        "def plot_losses(losses):\n",
        "    train_losses,val_losses,val_accuracies = losses\n",
        "    epochs = range(1, len(train_losses) + 1)\n",
        "\n",
        "\n",
        "    plt.plot(epochs, train_losses, label='Training Loss', marker='o', linestyle='-', color='b')\n",
        "\n",
        "\n",
        "    plt.plot(epochs, val_losses, label='Validation Loss', marker='o', linestyle='-', color='r')\n",
        "\n",
        "\n",
        "    plt.xlabel('Epochs')\n",
        "    plt.ylabel('Loss')\n",
        "    plt.title('Training & Validation Loss Curves')\n",
        "    plt.legend()\n",
        "\n",
        "\n",
        "    plt.show()"
      ]
    },
    {
      "cell_type": "markdown",
      "source": [
        "This was the best model that we trained taking around 793 seconds to train 20 epochs and seeing a validation accuracy of around 74 percent"
      ],
      "metadata": {
        "id": "LSHUFEw83Nop"
      }
    },
    {
      "cell_type": "code",
      "execution_count": 48,
      "metadata": {
        "colab": {
          "base_uri": "https://localhost:8080/",
          "height": 1000
        },
        "id": "qf8IKY8uZZSl",
        "outputId": "52155b34-c309-4e35-edec-fe94db966b20"
      },
      "outputs": [
        {
          "output_type": "stream",
          "name": "stderr",
          "text": [
            "<ipython-input-21-a1a8fb0b13a9>:2: UserWarning: To copy construct from a tensor, it is recommended to use sourceTensor.clone().detach() or sourceTensor.clone().detach().requires_grad_(True), rather than torch.tensor(sourceTensor).\n",
            "  data = [torch.tensor(item['data']) for item in batch]\n"
          ]
        },
        {
          "output_type": "stream",
          "name": "stdout",
          "text": [
            "Epoch [1/20] - Train Loss: 69.3244 - Validation Loss: 69.3157 - Validation Accuracy: 50.23%\n",
            "Time Taken: 40 seconds\n",
            "Epoch [2/20] - Train Loss: 69.2787 - Validation Loss: 68.6804 - Validation Accuracy: 54.62%\n",
            "Time Taken: 78 seconds\n",
            "Epoch [3/20] - Train Loss: 63.0307 - Validation Loss: 59.5350 - Validation Accuracy: 68.10%\n",
            "Time Taken: 119 seconds\n",
            "Epoch [4/20] - Train Loss: 58.3626 - Validation Loss: 57.2343 - Validation Accuracy: 70.06%\n",
            "Time Taken: 158 seconds\n",
            "Epoch [5/20] - Train Loss: 56.5639 - Validation Loss: 56.0154 - Validation Accuracy: 71.11%\n",
            "Time Taken: 198 seconds\n",
            "Epoch [6/20] - Train Loss: 55.5006 - Validation Loss: 55.0807 - Validation Accuracy: 71.66%\n",
            "Time Taken: 237 seconds\n",
            "Epoch [7/20] - Train Loss: 54.6678 - Validation Loss: 54.9360 - Validation Accuracy: 71.58%\n",
            "Time Taken: 275 seconds\n",
            "Epoch [8/20] - Train Loss: 54.0509 - Validation Loss: 54.0275 - Validation Accuracy: 72.57%\n",
            "Time Taken: 315 seconds\n",
            "Epoch [9/20] - Train Loss: 53.5680 - Validation Loss: 55.5331 - Validation Accuracy: 71.59%\n",
            "Time Taken: 354 seconds\n",
            "Epoch [10/20] - Train Loss: 53.0876 - Validation Loss: 53.4061 - Validation Accuracy: 72.82%\n",
            "Time Taken: 395 seconds\n",
            "Epoch [11/20] - Train Loss: 52.6536 - Validation Loss: 53.0951 - Validation Accuracy: 73.30%\n",
            "Time Taken: 433 seconds\n",
            "Epoch [12/20] - Train Loss: 52.2920 - Validation Loss: 54.4171 - Validation Accuracy: 72.61%\n",
            "Time Taken: 477 seconds\n",
            "Epoch [13/20] - Train Loss: 52.0435 - Validation Loss: 52.2212 - Validation Accuracy: 74.10%\n",
            "Time Taken: 516 seconds\n",
            "Epoch [14/20] - Train Loss: 51.5404 - Validation Loss: 52.7068 - Validation Accuracy: 73.45%\n",
            "Time Taken: 555 seconds\n",
            "Epoch [15/20] - Train Loss: 51.2994 - Validation Loss: 52.1345 - Validation Accuracy: 74.20%\n",
            "Time Taken: 596 seconds\n",
            "Epoch [16/20] - Train Loss: 51.2315 - Validation Loss: 52.2010 - Validation Accuracy: 73.97%\n",
            "Time Taken: 634 seconds\n",
            "Epoch [17/20] - Train Loss: 50.7290 - Validation Loss: 52.1557 - Validation Accuracy: 74.23%\n",
            "Time Taken: 675 seconds\n",
            "Epoch [18/20] - Train Loss: 50.5207 - Validation Loss: 52.5932 - Validation Accuracy: 73.86%\n",
            "Time Taken: 713 seconds\n",
            "Epoch [19/20] - Train Loss: 50.3674 - Validation Loss: 51.8609 - Validation Accuracy: 74.63%\n",
            "Time Taken: 754 seconds\n",
            "Epoch [20/20] - Train Loss: 50.0145 - Validation Loss: 51.6546 - Validation Accuracy: 74.60%\n",
            "Time Taken: 793 seconds\n"
          ]
        },
        {
          "output_type": "display_data",
          "data": {
            "text/plain": [
              "<Figure size 640x480 with 1 Axes>"
            ],
            "image/png": "[encoded data removed]"
          },
          "metadata": {}
        }
      ],
      "source": [
        "lr = 0.0005\n",
        "epochs = 20\n",
        "clip = 5\n",
        "layers = 2\n",
        "embedding_dim = 256\n",
        "hidden_dim = 512\n",
        "\n",
        "losses,finalmodel = trainRNN(lr, epochs, clip, layers, embedding_dim, hidden_dim)\n",
        "plot_losses(losses)"
      ]
    },
    {
      "cell_type": "markdown",
      "source": [
        "I will now test this model with my test dataset to see the accuracy of data that was not seen during training. The test accuracy was also around 74 percent"
      ],
      "metadata": {
        "id": "QbvDBO0WxBX8"
      }
    },
    {
      "cell_type": "code",
      "source": [
        "finalmodel.eval()\n",
        "\n",
        "# Assuming you have a DataLoader for the test dataset, named test_loader\n",
        "# test_loader = ...\n",
        "\n",
        "correct = 0\n",
        "total = 0\n",
        "val_h = finalmodel.init_hidden(batch_size)\n",
        "\n",
        "# Iterate through the test dataset\n",
        "with torch.no_grad():  # Disable gradient computation during inference\n",
        "    for batch in test_loader:\n",
        "        val_h = tuple([each.data for each in val_h])\n",
        "\n",
        "        #inputs, labels = inputs.to(device), labels.to(device)\n",
        "        inputs = batch['data'].to(device)\n",
        "        #print(inputs)\n",
        "        targets = batch['label'].to(device)\n",
        "        targets = targets.type(torch.FloatTensor)\n",
        "\n",
        "        targets = torch.argmax(targets, dim=1)\n",
        "        labels = targets\n",
        "        labels = labels.to(device)\n",
        "        #print(labels)\n",
        "        output, val_h = finalmodel(inputs, val_h)\n",
        "        #print(output)\n",
        "\n",
        "\n",
        "        accuracy = acc(output,labels)\n",
        "        correct += accuracy\n",
        "        total+=1\n",
        "\n",
        "\n",
        "\n",
        "# Compute accuracy\n",
        "test_accuracy = correct / total\n",
        "\n",
        "print(f'Test Accuracy: {test_accuracy * 100:.2f}%')"
      ],
      "metadata": {
        "colab": {
          "base_uri": "https://localhost:8080/"
        },
        "id": "gcVq6axsxAjI",
        "outputId": "12866c68-ffce-4091-928f-ceb29b28e18c"
      },
      "execution_count": 55,
      "outputs": [
        {
          "output_type": "stream",
          "name": "stderr",
          "text": [
            "<ipython-input-21-a1a8fb0b13a9>:2: UserWarning: To copy construct from a tensor, it is recommended to use sourceTensor.clone().detach() or sourceTensor.clone().detach().requires_grad_(True), rather than torch.tensor(sourceTensor).\n",
            "  data = [torch.tensor(item['data']) for item in batch]\n"
          ]
        },
        {
          "output_type": "stream",
          "name": "stdout",
          "text": [
            "Test Accuracy: 73.76%\n"
          ]
        }
      ]
    },
    {
      "cell_type": "markdown",
      "source": [
        "Here is another model we tried that was larger in size"
      ],
      "metadata": {
        "id": "eEVStUub3b0B"
      }
    },
    {
      "cell_type": "code",
      "execution_count": 56,
      "metadata": {
        "colab": {
          "base_uri": "https://localhost:8080/",
          "height": 866
        },
        "id": "xsP2Sc3AioTq",
        "outputId": "39129b87-5b7b-4e36-e8aa-670b19f7520d"
      },
      "outputs": [
        {
          "output_type": "stream",
          "name": "stderr",
          "text": [
            "<ipython-input-21-a1a8fb0b13a9>:2: UserWarning: To copy construct from a tensor, it is recommended to use sourceTensor.clone().detach() or sourceTensor.clone().detach().requires_grad_(True), rather than torch.tensor(sourceTensor).\n",
            "  data = [torch.tensor(item['data']) for item in batch]\n"
          ]
        },
        {
          "output_type": "stream",
          "name": "stdout",
          "text": [
            "Epoch [1/10] - Train Loss: 68.3595 - Validation Loss: 67.2524 - Validation Accuracy: 58.18%\n",
            "Time Taken: 46 seconds\n",
            "Epoch [2/10] - Train Loss: 66.3030 - Validation Loss: 65.1161 - Validation Accuracy: 60.88%\n",
            "Time Taken: 95 seconds\n",
            "Epoch [3/10] - Train Loss: 64.0453 - Validation Loss: 62.7673 - Validation Accuracy: 64.75%\n",
            "Time Taken: 142 seconds\n",
            "Epoch [4/10] - Train Loss: 61.8182 - Validation Loss: 61.3414 - Validation Accuracy: 65.94%\n",
            "Time Taken: 187 seconds\n",
            "Epoch [5/10] - Train Loss: 60.1214 - Validation Loss: 60.4763 - Validation Accuracy: 67.36%\n",
            "Time Taken: 233 seconds\n",
            "Epoch [6/10] - Train Loss: 59.0204 - Validation Loss: 59.3836 - Validation Accuracy: 68.03%\n",
            "Time Taken: 279 seconds\n",
            "Epoch [7/10] - Train Loss: 58.1245 - Validation Loss: 57.8271 - Validation Accuracy: 69.33%\n",
            "Time Taken: 325 seconds\n",
            "Epoch [8/10] - Train Loss: 57.3108 - Validation Loss: 57.2215 - Validation Accuracy: 70.13%\n",
            "Time Taken: 372 seconds\n",
            "Epoch [9/10] - Train Loss: 56.7058 - Validation Loss: 56.0898 - Validation Accuracy: 71.11%\n",
            "Time Taken: 419 seconds\n",
            "Epoch [10/10] - Train Loss: 55.8567 - Validation Loss: 55.5276 - Validation Accuracy: 71.47%\n",
            "Time Taken: 465 seconds\n"
          ]
        },
        {
          "output_type": "display_data",
          "data": {
            "text/plain": [
              "<Figure size 640x480 with 1 Axes>"
            ],
            "image/png": "[encoded data removed]"
          },
          "metadata": {}
        }
      ],
      "source": [
        "lr = 0.0007\n",
        "epochs = 10\n",
        "clip = 5\n",
        "layers = 2\n",
        "embedding_dim = 512\n",
        "hidden_dim = 1048\n",
        "\n",
        "losses,finalmodel2 = trainRNN(lr, epochs, clip, layers, embedding_dim, hidden_dim)\n",
        "plot_losses(losses)"
      ]
    }
  ],
  "metadata": {
    "accelerator": "GPU",
    "colab": {
      "provenance": []
    },
    "kernelspec": {
      "display_name": "Python 3",
      "name": "python3"
    },
    "language_info": {
      "name": "python"
    }
  },
  "nbformat": 4,
  "nbformat_minor": 0
}